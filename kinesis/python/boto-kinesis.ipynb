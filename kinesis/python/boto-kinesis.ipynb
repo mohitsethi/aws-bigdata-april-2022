{
 "cells": [
  {
   "cell_type": "code",
   "execution_count": 66,
   "id": "8cc7f5fd-fba4-4d3c-919b-7a8a399af1d8",
   "metadata": {},
   "outputs": [
    {
     "name": "stdout",
     "output_type": "stream",
     "text": [
      "\u001b[33mDEPRECATION: Configuring installation scheme with distutils config files is deprecated and will no longer work in the near future. If you are using a Homebrew or Linuxbrew Python, please see discussion at https://github.com/Homebrew/homebrew-core/issues/76621\u001b[0m\u001b[33m\n",
      "\u001b[0mRequirement already satisfied: boto in /usr/local/lib/python3.9/site-packages (2.49.0)\n",
      "Requirement already satisfied: boto3 in /usr/local/lib/python3.9/site-packages (1.21.46)\n",
      "Requirement already satisfied: s3transfer<0.6.0,>=0.5.0 in /usr/local/lib/python3.9/site-packages (from boto3) (0.5.2)\n",
      "Requirement already satisfied: botocore<1.25.0,>=1.24.46 in /usr/local/lib/python3.9/site-packages (from boto3) (1.24.46)\n",
      "Requirement already satisfied: jmespath<2.0.0,>=0.7.1 in /usr/local/lib/python3.9/site-packages (from boto3) (1.0.0)\n",
      "Requirement already satisfied: python-dateutil<3.0.0,>=2.1 in /usr/local/lib/python3.9/site-packages (from botocore<1.25.0,>=1.24.46->boto3) (2.8.2)\n",
      "Requirement already satisfied: urllib3<1.27,>=1.25.4 in /usr/local/lib/python3.9/site-packages (from botocore<1.25.0,>=1.24.46->boto3) (1.26.9)\n",
      "Requirement already satisfied: six>=1.5 in /usr/local/lib/python3.9/site-packages (from python-dateutil<3.0.0,>=2.1->botocore<1.25.0,>=1.24.46->boto3) (1.16.0)\n",
      "\u001b[33mDEPRECATION: Configuring installation scheme with distutils config files is deprecated and will no longer work in the near future. If you are using a Homebrew or Linuxbrew Python, please see discussion at https://github.com/Homebrew/homebrew-core/issues/76621\u001b[0m\u001b[33m\n",
      "\u001b[0m\u001b[33mDEPRECATION: Configuring installation scheme with distutils config files is deprecated and will no longer work in the near future. If you are using a Homebrew or Linuxbrew Python, please see discussion at https://github.com/Homebrew/homebrew-core/issues/76621\u001b[0m\u001b[33m\n",
      "\u001b[0mRequirement already satisfied: notebook in /usr/local/lib/python3.9/site-packages (6.4.10)\n",
      "Requirement already satisfied: argon2-cffi in /usr/local/lib/python3.9/site-packages (from notebook) (21.3.0)\n",
      "Requirement already satisfied: tornado>=6.1 in /usr/local/lib/python3.9/site-packages (from notebook) (6.1)\n",
      "Requirement already satisfied: jupyter-core>=4.6.1 in /usr/local/lib/python3.9/site-packages (from notebook) (4.9.2)\n",
      "Requirement already satisfied: Send2Trash>=1.8.0 in /usr/local/lib/python3.9/site-packages (from notebook) (1.8.0)\n",
      "Requirement already satisfied: ipython-genutils in /usr/local/lib/python3.9/site-packages (from notebook) (0.2.0)\n",
      "Requirement already satisfied: prometheus-client in /usr/local/lib/python3.9/site-packages (from notebook) (0.14.1)\n",
      "Requirement already satisfied: nbformat in /usr/local/lib/python3.9/site-packages (from notebook) (5.3.0)\n",
      "Requirement already satisfied: ipykernel in /usr/local/lib/python3.9/site-packages (from notebook) (6.13.0)\n",
      "Requirement already satisfied: nbconvert>=5 in /usr/local/lib/python3.9/site-packages (from notebook) (6.5.0)\n",
      "Requirement already satisfied: nest-asyncio>=1.5 in /usr/local/lib/python3.9/site-packages (from notebook) (1.5.5)\n",
      "Requirement already satisfied: jinja2 in /usr/local/lib/python3.9/site-packages (from notebook) (3.1.1)\n",
      "Requirement already satisfied: terminado>=0.8.3 in /usr/local/lib/python3.9/site-packages (from notebook) (0.13.3)\n",
      "Requirement already satisfied: pyzmq>=17 in /usr/local/lib/python3.9/site-packages (from notebook) (22.3.0)\n",
      "Requirement already satisfied: traitlets>=4.2.1 in /usr/local/lib/python3.9/site-packages (from notebook) (5.1.1)\n",
      "Requirement already satisfied: jupyter-client>=5.3.4 in /usr/local/lib/python3.9/site-packages (from notebook) (7.2.2)\n",
      "Requirement already satisfied: python-dateutil>=2.8.2 in /usr/local/lib/python3.9/site-packages (from jupyter-client>=5.3.4->notebook) (2.8.2)\n",
      "Requirement already satisfied: entrypoints in /usr/local/lib/python3.9/site-packages (from jupyter-client>=5.3.4->notebook) (0.4)\n",
      "Requirement already satisfied: pygments>=2.4.1 in /usr/local/lib/python3.9/site-packages (from nbconvert>=5->notebook) (2.11.2)\n",
      "Requirement already satisfied: MarkupSafe>=2.0 in /usr/local/lib/python3.9/site-packages (from nbconvert>=5->notebook) (2.1.1)\n",
      "Requirement already satisfied: bleach in /usr/local/lib/python3.9/site-packages (from nbconvert>=5->notebook) (5.0.0)\n",
      "Requirement already satisfied: pandocfilters>=1.4.1 in /usr/local/lib/python3.9/site-packages (from nbconvert>=5->notebook) (1.5.0)\n",
      "Requirement already satisfied: tinycss2 in /usr/local/lib/python3.9/site-packages (from nbconvert>=5->notebook) (1.1.1)\n",
      "Requirement already satisfied: defusedxml in /usr/local/lib/python3.9/site-packages (from nbconvert>=5->notebook) (0.7.1)\n",
      "Requirement already satisfied: packaging in /usr/local/lib/python3.9/site-packages (from nbconvert>=5->notebook) (20.9)\n",
      "Requirement already satisfied: beautifulsoup4 in /usr/local/lib/python3.9/site-packages (from nbconvert>=5->notebook) (4.11.1)\n",
      "Requirement already satisfied: nbclient>=0.5.0 in /usr/local/lib/python3.9/site-packages (from nbconvert>=5->notebook) (0.6.0)\n",
      "Requirement already satisfied: jupyterlab-pygments in /usr/local/lib/python3.9/site-packages (from nbconvert>=5->notebook) (0.2.2)\n",
      "Requirement already satisfied: mistune<2,>=0.8.1 in /usr/local/lib/python3.9/site-packages (from nbconvert>=5->notebook) (0.8.4)\n",
      "Requirement already satisfied: jsonschema>=2.6 in /usr/local/lib/python3.9/site-packages (from nbformat->notebook) (4.4.0)\n",
      "Requirement already satisfied: fastjsonschema in /usr/local/lib/python3.9/site-packages (from nbformat->notebook) (2.15.3)\n",
      "Requirement already satisfied: ptyprocess in /usr/local/lib/python3.9/site-packages (from terminado>=0.8.3->notebook) (0.7.0)\n",
      "Requirement already satisfied: argon2-cffi-bindings in /usr/local/lib/python3.9/site-packages (from argon2-cffi->notebook) (21.2.0)\n",
      "Requirement already satisfied: appnope in /usr/local/lib/python3.9/site-packages (from ipykernel->notebook) (0.1.3)\n",
      "Requirement already satisfied: debugpy>=1.0 in /usr/local/lib/python3.9/site-packages (from ipykernel->notebook) (1.6.0)\n",
      "Requirement already satisfied: matplotlib-inline>=0.1 in /usr/local/lib/python3.9/site-packages (from ipykernel->notebook) (0.1.3)\n",
      "Requirement already satisfied: ipython>=7.23.1 in /usr/local/lib/python3.9/site-packages (from ipykernel->notebook) (8.2.0)\n",
      "Requirement already satisfied: psutil in /usr/local/lib/python3.9/site-packages (from ipykernel->notebook) (5.9.0)\n",
      "Requirement already satisfied: pexpect>4.3 in /usr/local/lib/python3.9/site-packages (from ipython>=7.23.1->ipykernel->notebook) (4.8.0)\n",
      "Requirement already satisfied: backcall in /usr/local/lib/python3.9/site-packages (from ipython>=7.23.1->ipykernel->notebook) (0.2.0)\n",
      "Requirement already satisfied: decorator in /usr/local/lib/python3.9/site-packages (from ipython>=7.23.1->ipykernel->notebook) (5.1.1)\n",
      "Requirement already satisfied: pickleshare in /usr/local/lib/python3.9/site-packages (from ipython>=7.23.1->ipykernel->notebook) (0.7.5)\n",
      "Requirement already satisfied: setuptools>=18.5 in /usr/local/lib/python3.9/site-packages (from ipython>=7.23.1->ipykernel->notebook) (60.10.0)\n",
      "Requirement already satisfied: jedi>=0.16 in /usr/local/lib/python3.9/site-packages (from ipython>=7.23.1->ipykernel->notebook) (0.18.1)\n",
      "Requirement already satisfied: stack-data in /usr/local/lib/python3.9/site-packages (from ipython>=7.23.1->ipykernel->notebook) (0.2.0)\n",
      "Requirement already satisfied: prompt-toolkit!=3.0.0,!=3.0.1,<3.1.0,>=2.0.0 in /usr/local/lib/python3.9/site-packages (from ipython>=7.23.1->ipykernel->notebook) (3.0.29)\n",
      "Requirement already satisfied: attrs>=17.4.0 in /usr/local/lib/python3.9/site-packages (from jsonschema>=2.6->nbformat->notebook) (21.4.0)\n",
      "Requirement already satisfied: pyrsistent!=0.17.0,!=0.17.1,!=0.17.2,>=0.14.0 in /usr/local/lib/python3.9/site-packages (from jsonschema>=2.6->nbformat->notebook) (0.18.1)\n",
      "Requirement already satisfied: six>=1.5 in /usr/local/lib/python3.9/site-packages (from python-dateutil>=2.8.2->jupyter-client>=5.3.4->notebook) (1.16.0)\n",
      "Requirement already satisfied: cffi>=1.0.1 in /usr/local/lib/python3.9/site-packages (from argon2-cffi-bindings->argon2-cffi->notebook) (1.15.0)\n",
      "Requirement already satisfied: soupsieve>1.2 in /usr/local/lib/python3.9/site-packages (from beautifulsoup4->nbconvert>=5->notebook) (2.3.2.post1)\n",
      "Requirement already satisfied: webencodings in /usr/local/lib/python3.9/site-packages (from bleach->nbconvert>=5->notebook) (0.5.1)\n",
      "Requirement already satisfied: pyparsing>=2.0.2 in /usr/local/lib/python3.9/site-packages (from packaging->nbconvert>=5->notebook) (3.0.8)\n"
     ]
    },
    {
     "name": "stdout",
     "output_type": "stream",
     "text": [
      "Requirement already satisfied: pycparser in /usr/local/lib/python3.9/site-packages (from cffi>=1.0.1->argon2-cffi-bindings->argon2-cffi->notebook) (2.21)\n",
      "Requirement already satisfied: parso<0.9.0,>=0.8.0 in /usr/local/lib/python3.9/site-packages (from jedi>=0.16->ipython>=7.23.1->ipykernel->notebook) (0.8.3)\n",
      "Requirement already satisfied: wcwidth in /usr/local/lib/python3.9/site-packages (from prompt-toolkit!=3.0.0,!=3.0.1,<3.1.0,>=2.0.0->ipython>=7.23.1->ipykernel->notebook) (0.2.5)\n",
      "Requirement already satisfied: asttokens in /usr/local/lib/python3.9/site-packages (from stack-data->ipython>=7.23.1->ipykernel->notebook) (2.0.5)\n",
      "Requirement already satisfied: executing in /usr/local/lib/python3.9/site-packages (from stack-data->ipython>=7.23.1->ipykernel->notebook) (0.8.3)\n",
      "Requirement already satisfied: pure-eval in /usr/local/lib/python3.9/site-packages (from stack-data->ipython>=7.23.1->ipykernel->notebook) (0.2.2)\n",
      "\u001b[33mDEPRECATION: Configuring installation scheme with distutils config files is deprecated and will no longer work in the near future. If you are using a Homebrew or Linuxbrew Python, please see discussion at https://github.com/Homebrew/homebrew-core/issues/76621\u001b[0m\u001b[33m\n",
      "\u001b[0m"
     ]
    }
   ],
   "source": [
    "!pip3 install boto\n",
    "!pip3 install notebook"
   ]
  },
  {
   "cell_type": "code",
   "execution_count": 93,
   "id": "2e232ead",
   "metadata": {},
   "outputs": [],
   "source": [
    "\n",
    "from boto import kinesis\n",
    "import time\n",
    "# import os1"
   ]
  },
  {
   "cell_type": "code",
   "execution_count": 94,
   "id": "9fc5cc4f-80f7-45d0-b255-b30811e49c10",
   "metadata": {},
   "outputs": [
    {
     "name": "stdout",
     "output_type": "stream",
     "text": [
      "boto-kinesis.ipynb       kinesis-python-stream.md\r\n"
     ]
    }
   ],
   "source": [
    "!ls"
   ]
  },
  {
   "cell_type": "code",
   "execution_count": 95,
   "id": "6418b55b-6fe2-4473-be2e-9e2d91533792",
   "metadata": {},
   "outputs": [],
   "source": [
    "kinesis = kinesis.connect_to_region(\"ap-south-1\")"
   ]
  },
  {
   "cell_type": "code",
   "execution_count": 96,
   "id": "a19f2e02-4aa9-4e5a-af4c-433012e01f60",
   "metadata": {},
   "outputs": [],
   "source": [
    "shard_id = 'shardId-000000000000' #we only have one shard!"
   ]
  },
  {
   "cell_type": "code",
   "execution_count": 97,
   "id": "29cd0eaf",
   "metadata": {},
   "outputs": [],
   "source": [
    "stream_name = 'ds-ms-1'"
   ]
  },
  {
   "cell_type": "code",
   "execution_count": 98,
   "id": "8d702003-10bb-458c-b45a-ad9c81d466a6",
   "metadata": {},
   "outputs": [],
   "source": [
    "shard_it = kinesis.get_shard_iterator(\"ds-ms-1\", shard_id, \"LATEST\")[\"ShardIterator\"]"
   ]
  },
  {
   "cell_type": "code",
   "execution_count": null,
   "id": "00c82bb6-502d-4931-842c-96bcfcc4c1ed",
   "metadata": {
    "scrolled": true,
    "tags": []
   },
   "outputs": [
    {
     "name": "stdout",
     "output_type": "stream",
     "text": [
      "{'MillisBehindLatest': 0, 'NextShardIterator': 'AAAAAAAAAAGn7ezZQoe+21m4tWWekv8Gi91IPVZoALZRyAnFbUPGG7v4o6wsPxgSi7qwlmoS8e1G+IHV3KR/NYKUeTEgo9kahvLY/g1nEDEMO3I3n5YycrJZxPuXc8CVwapCtbhcHevrwRlZBytqte11ijCUYhDeqBYM5Y3nMaZ27iC9B0QCgTJsFRy59k/rszbsXBTgw8PYT+He8XvYhpmgBmmhbl6Tni6JUWZQxPBYFSX+uxpbMg==', 'Records': []}\n",
      "{'MillisBehindLatest': 0, 'NextShardIterator': 'AAAAAAAAAAGyAjZd7nHshFSTCEl1MuJK/GfGsrDaWlT9hKl++bC01MXTwMlF2SoVLQ2CUvFyvGsC0yK6Sw+Pj36JHCCJlT2eoh/hVQKEphr08uxSm1hTuwSvTfu7aOX6LTf+XH1ucfie3ohLV9igTdip2/p7l59bKNuOI6Jmd2wEZt9E3ajlzv7v2V4PexhEDVRCTYq22Xe0dNZRMOdc3qPkjduNu5XcWej7QoDRqHpaDTvlmgIeIQ==', 'Records': []}\n",
      "{'MillisBehindLatest': 0, 'NextShardIterator': 'AAAAAAAAAAE7qdID3npKolfqBq6GUi87vmvOQKYpQiDKg5iFgu6v6gbJMwuQGZNYZ2H3O6MRvUR39sZg8Gi4K51SAfdU1WXzo3gerA/B8ckH+Ok2Y4mnu4YQJUQSpt7QkPN59KCsaov3K+8eRH18fX/WMBHrH0J8XnPWS6tCHd3rLtGUOTAXYheXB4gcY9R0TIrcJEf69dyxbBX/aFYpbyeTOiuvIjkB8aYPiAGDqkzHyFfFM5gDGw==', 'Records': []}\n",
      "{'MillisBehindLatest': 0, 'NextShardIterator': 'AAAAAAAAAAG0SMxY5OPS3RB14f47kDPXTcx5ROac32EUsx9DSJ04c/8U8Zven+WYQIIvFQroMrDmYOP3Ry0p9ehTcYsgPKThS/BxvIiuE2459Jhm36fvoRfovoV40YvcTbYfEAngDqy2HCv/x3XSL7/iS39zF8L7aC5sSYHtJnzSS9YvvaUpShubBActDyZfjZiu6ia+rLFv6AxpPz7V3JS4O0SbsZY0+puoiZHZFZFuRCuK8r3zdg==', 'Records': []}\n",
      "{'MillisBehindLatest': 0, 'NextShardIterator': 'AAAAAAAAAAERVdElEA2fdP17MaT96NQ5iutZBF6uSqwf3YMoyGSLxYr58B7pD8rbuNAyosL49kgB1gaT1YvLsbDriYW66m3XTf18a3NXyHeRwGhHA5VDZPAw2yumRFtW6ohjTwlxTtbGfPagaE6ejPu6ALrxj+6TNM+BhbxSy1xkz/yEjdD5ixxZr7OdpODyoHAzuq76V6k879j54sFuedJUJ2xrRI6iqPKpT2FR9Ei2E6W2KKVf4Q==', 'Records': []}\n",
      "{'MillisBehindLatest': 0, 'NextShardIterator': 'AAAAAAAAAAFEr++QRGZrbOI9HqEU2EXJiCWNDtXnIttFdIx0nZKuzbRtD3aZ4KdkiBun35cfyKm1MTXeubQNJkm2hzy9A7BWram9P92qXabAJZyZuqMbPQJJ/EmJlSY60RBL1nrUFcHxrZedL/cL9UTj0ThYHeVKXj+2fxCKHx2U1sidcyNHITi/ukA+q0V17ZLto+vLt5rez/Zxpvnk5SpuC38fAZqBlynNstvo45j+AY1jW4aJSg==', 'Records': []}\n",
      "{'MillisBehindLatest': 0, 'NextShardIterator': 'AAAAAAAAAAFbZeuE7YefuNVXcKcXDfFPl6u8wWi8lW6/pnYvOMQgtws2+paDJToDOx9dtL6rRkPAr7yfX1QkNBeLDe2sMBP4ROM3XdMUYJ6eWmH9qDKJl+wgs+l6gxaumWIclWS9babkscW3NE5dOcmmPQ7ZuRQUqdwZBN/vfE+OgPSEooJUllEm1jFWr/dzk8p3f5NChtCQ6ZZ8+KHJ2zLxJcXpUkoUMLkKxaL9p76AHkZQbq1SAA==', 'Records': []}\n",
      "{'MillisBehindLatest': 0, 'NextShardIterator': 'AAAAAAAAAAGuYxEHUNbcNZ8MBe1iqfFzkkf1GMS5EoS6tK9h9fv1kE+tFsanft3fNgcKd4oV272zDbCZMxG3UlBMesUb/eCF6L1r0fZnvJx6TSQ6hnyMBJT2/zMEok9j6YYO6ArbT5rYSmJn4FAwVLmyeC6q910oaqx8dNMTOQb5V8GNB404WChs36vE6MY67m/YLOora06Nlz22EkNckiZfQYKEzqu8NvFcUlPnnnZk9OBYVUHnKw==', 'Records': []}\n",
      "{'MillisBehindLatest': 0, 'NextShardIterator': 'AAAAAAAAAAHrTSMRLmaWv+yNvvDm63hN1GH6dqRlP9ZsMTgQcShe9NY1yCvuDhfucMCpqxMggYLnM1SzLqMw7SArxd6dgmXbGMMxQ7a4eJO0qgf+m4RUbeMevcctj5CnKC24YqNhQaGhkpyQ4UO43U/uDrF9eK+JuWXsjD58KBmyVAGKxt3+5fbqMk71oncFDbJu85r7jU/EQQ383NIrdWlED24VfgWUxPLWuj95+4merSLfmVj0Ow==', 'Records': []}\n",
      "{'MillisBehindLatest': 0, 'NextShardIterator': 'AAAAAAAAAAFP/CeZAEJrS5bMDbrl7J2zjySme2Bbad8zaySEdxVmQCtFFkkXcTAgoiWUy4/j81pPlwjQDIQc8jvnn8Gs/spl4R+7stLpVSWFZ8lB1waI8VEWZML9aMId1vAjYIiKkQWo0GJcX4RhC01pdSwN7DD8zDeBbf5+sJQCcXz9S1U3LnMwC1HSvMEJQqaFCd1fN86ZHOk+EgJcIE7oG1qrUm5MezGd1jD/jqt3bbQqsCrwIA==', 'Records': []}\n",
      "{'MillisBehindLatest': 0, 'NextShardIterator': 'AAAAAAAAAAHTbCYMjgKtD3Ql9AOVwrphzqc8rD6kDXYC0RW0o64Ze36EtAhlZ/pcJLnCZUVpqKSNasp5K9+fJTZpiG+yL6vEHyRjFveU3derEOIGztFAZBuKzb2HPQwYT/qLaJODIvrwfc6Cmsz0/mszs08a1m3OVLuYY2kx2qAwEvUieBEbgasM8h05aTWDpawJTlt+DU2hhxKmEVQSH1KeyNbbCy1X8az9c9+tW6Fwxe1fCon9Uw==', 'Records': []}\n",
      "{'MillisBehindLatest': 0, 'NextShardIterator': 'AAAAAAAAAAE7EHzIQkeHu81eDXLilFbCvrEtSqNabnPLO/f+/5ZKtO362qP8WzYE3Z13Nxuc7YZoXtQyWz51kFHwEdFec1bOEQgfjluGJ+LdmlSbG+zjKeOHS7MJ2JYnEBYWe/erCbrpsMLzeptqH54CdskUGUnHetzLbt7Or1auNF6fP7dIl4QYmIKDt8tcq4M0e9wvaeLYQUAS25rgsv64/GvY4fZbs78WiK/wzL0PbF9e0DAKQA==', 'Records': []}\n",
      "{'MillisBehindLatest': 0, 'NextShardIterator': 'AAAAAAAAAAGXOuEy3F7+LwO5EVKbM7kQHvEmMRfdQ13YQudkJmWu3Rg5itL2yahHsS5wt/EGBuJ6Iv/4NRWKwdOzjgHoZBqk4v0c41E0L0JeHSsmEtCBC32hAvnitVwgqFXfeoa4LgTEeSUz9gVV6q3ObRfwolMf+dR+odXA67tSk+IGYA+CekUZEF4Nhn2T2dyCYEpAkbuGWDxsBJGY/87ZoUdlKkpFnA7uBmru/vjDpqyhVEGqVg==', 'Records': []}\n",
      "{'MillisBehindLatest': 0, 'NextShardIterator': 'AAAAAAAAAAHxScgUkK+9VzLhO0lHMfIqOQaNmz58QP30mb5U/V08RYLDhkt8PORWd7aVciIL45+G/jGm3vHiHc+ag6XE4cB/3cWswqNpmwUe1O/k9lz1D690Qh4K1chwKxNz7EZcbUXd9iaKbsNKIP42T1yz+smjLwt2z1dVO4RsTMS3jZV4BV896uy2soVtj0LosyMV057Blm3en12+GMbMdxNmXeO7AVfUGNVBIKg6j1F6qoJ9Tw==', 'Records': []}\n",
      "{'MillisBehindLatest': 0, 'NextShardIterator': 'AAAAAAAAAAHEWwWmuqIy05p9VgZi9nXhGCmhvUgP452sCKatWS9hqP5F370t8iSYEB/CoNXdwdeqJfRpnA14amg7uT/EOWvoXrkyBL3oH1gfeYbrfW/AXTFIM1G7SiB02iozLCbhPvDCjfJy8q6rASQpv4QMrpTW7otemyCin/JkOfTMFTTEa+2qAnGW+tcZHPXefO9OvfgdwCx8fZHIpvq8Jfw1TxB/z5s2u+jUT5rbFSuh5q9I5w==', 'Records': []}\n",
      "{'MillisBehindLatest': 0, 'NextShardIterator': 'AAAAAAAAAAFL+XduyBaqrIikp1IylqvT5fdGTuF9m7hyAtE2XGgsbI+62ZMz9Ic5OtrdWyD4vgCS1sjwVyHAfVgxVa7zLerf8Df2Nf5mtEymtpO4hQqQKvPLHF39mV6wOQOs6uQzloBKoS8mHezx5mMQQewECI3d/MOWXCRu1PyzszDusUpodZUm39+kW4kglhz4rBa96AAOw3uN6XhnbaMmwJ1PeiyYulFoqQ4MFNaF+glFqMk66A==', 'Records': []}\n",
      "{'MillisBehindLatest': 0, 'NextShardIterator': 'AAAAAAAAAAEVcz8nomnK9yeRjKCdKs8tUYxSj1zhSP0pj+vV3aG5vrsgQ0q4OwLuFhpM3fbQv4SKPt0Nxi5Rx5Yr2MllDoWv8F5kJR61w0FVWtuS0qMfdCwGoH2SXFvz9GxUrHJlfGEYqenNX4/vm6VNwpNMHu8JlFFWsGwq1hbZ8/MFhrqj/zxcGxwNd5DDM8RfQEPz3dU0TSV6fzVYw03EEUfMdJjJNLRKIsQnx+KLaRQXPWrNDg==', 'Records': []}\n",
      "{'MillisBehindLatest': 0, 'NextShardIterator': 'AAAAAAAAAAGjCLygJWOrHhpHPCDtBoWrTn6PSnsv2Iupn3/f05Gh0Zw9P7AGfy7/5YG+qkWpaR7Ga9cqmWy339cD3RQeW6gDm7jmAMWDiffUh3TdMnJeUc/D+gAm1BEJX4wM0qvnw1mXHJnBsRuVFkL+O+Es5NmDLivmuiXhqYzclz7PfeE+lnIgagX3vE5aI2u73tVd54F4VK25JffV8dz8mLtkNElfR17W34r4FGJUkUPyzIMkzQ==', 'Records': []}\n",
      "{'MillisBehindLatest': 0, 'NextShardIterator': 'AAAAAAAAAAGnqPwwFoohouZJkNL4A9tNLjZ5zRbYwmyTgzzjbh4QOmzGKXB+QmOtKTaNsE5x0X+fj6Soxpd0wHgjCzLdTFdpi2KDcDuky5nUDyhXg5wkEhgCQY3APGQwBB8pEv+KVTNjskJ7hMaa09zOhnXHt/v7ZN8+CdZMDL7qT5T7GOb3bd2Yw3NC6Ro2Yvhnvm3FVpaLHZG2Ssxgex49oox9w3sEJQLZXu+79B8xmLriRZfRKw==', 'Records': []}\n",
      "{'MillisBehindLatest': 0, 'NextShardIterator': 'AAAAAAAAAAGrSXvjRh6BnwTmGnEvjYHoJqoCuPCmcF+M3hFnbizrZ2mGiKkY0cgN573670HRfG5g8k1xz9gqON9HARvP/h5JKKVKn033+VUPtVjLuoY0ZUhV9vDZAjB+IbDJ4F7ASBNHNoa0uLIvt5aDPuxffmkHyaphsSs/DaPx6qjicKu60tbHTfCl3ib3o4qCVvKigUFnEC0yRCSz+mlNjrHTOeTqsCZgSlJlopppsuF4SbAadQ==', 'Records': []}\n",
      "{'MillisBehindLatest': 0, 'NextShardIterator': 'AAAAAAAAAAGoZjA/D0PyFDKe6ndqKT1Wc7BpTUoZ3cdwQp2Ryc0gCM+ykBPNwfUW3REz0K+3ZZm/kAb0qrM58ZS/oEf7a6HSOXHELNIgBjjA225vVZ261B7HSDkIIJBStW8BZeRqA4MgI9IjAK9jUwyembADn6TseW4Y3t71lwSchpTknAlbiaGwoIk17ZiDclTWm0rAjAURiUX2643WhzjrYVBn/kNJwJ545FcTodyNoGXzoKxOFw==', 'Records': []}\n",
      "{'MillisBehindLatest': 0, 'NextShardIterator': 'AAAAAAAAAAH6KJ2APLT69JQXjWfeJT/S02RnRDgNmyzKgTp9kG3T44TxGSLnyofBGUv1+1etKED8WFZIhN09IOTZQpDgfG5GPKCwMhKI5UCBQGxTuw1dfg4fMRQTfK+KwMGZo4g8Bk6yhQ3i1QEohRhntgaaQk8YYtxUQGoTQOZcy762Xaw6rHhGqsSLeeUa01VOaS8AMdj2/QvN9B8fJFEHxhJLubS7pWtk6gCUyhgAGjk5Tlcq5Q==', 'Records': []}\n",
      "{'MillisBehindLatest': 0, 'NextShardIterator': 'AAAAAAAAAAFu81mRuAkgr69N44OsqM0jPKmnPgghUC6QMaYMAXcl7OBIdOB9KTWWl/qoNr/l7VVXwDWg81qVx3sdBUaxI4vZwM4QN2K9dvmGZj2G2Ya5F+kC2hCYqP011Xjkv0eWUWYrLoAatz3dksQPEOYEX73x9eiQeUiqEB9Q1nwtYu/pKv4z9Boi40/sttKfowZH/+SOH+mhrtAYrRgPjozn6bDe+CO5yLf81N1GgFYGNq6amg==', 'Records': []}\n",
      "{'MillisBehindLatest': 0, 'NextShardIterator': 'AAAAAAAAAAHJXwiYWolwOHckInvhi/1gn0OHcSBxqptiBpfD/T2p9dk6k+MsJ7cytX6YFrqJYDpgohYVP62gAAfTIo3LlrJEJ3kXAgTssqBbxc0ie2IXCZ5EYwyAG75UEwAMT+9I5N66uWTqXax3pyGop6a0tGBtB8DtbSkArqXOy0iuysCG4I/s7u0cY7KhkipG0mT90mw8fWHy0m+3yuAfdNIVB6QZjwzGgA5NTAv5WC3HSxlBUw==', 'Records': []}\n",
      "{'MillisBehindLatest': 0, 'NextShardIterator': 'AAAAAAAAAAEDWACetar6XMBufH233xSKjh9HEZ8op1PZWf7upTWHDPMYpbl+Ulq6vCJvH/ccSL3tsE+oZj1EllQ+ZrhO7I68pupfDhwIYIWjr8ErxRqlTusqzO12DhJfcaAwxqx2ay0ggu3q67qmjnMy9N0NuswleXMzRTurBVskCFKAB/jWs5yKHwD/SUv+/PKsnMgqWhPc2wxXsr3vWIKwOKkK9DpBTM0vbO203YhT2PbxQrtHKQ==', 'Records': []}\n",
      "{'MillisBehindLatest': 0, 'NextShardIterator': 'AAAAAAAAAAE0FUTJ7d8IrhxBQ6pxOd3CxwwWPt3i4UXTJDn50jmf2JQxcZ23CLs4VdC0QYMLu7pEsmmlhAgLrG+p1AEs384Btn66FXFLlUxfs8ZddFo/GgBcHplMqQYgw40L/00pMZZPxISf1LQY9y1dreWqYziNXIJ2z1rEXyFsaWdKOULGzOaW8Lx5UoQkuvhdVoCqCHIPe1a8UdQ7qfi9UMba4mjuV0sy6BonvL+XS3zNOCyRLA==', 'Records': []}\n",
      "{'MillisBehindLatest': 0, 'NextShardIterator': 'AAAAAAAAAAFpPeW88mT/TqCx9IBDnmYvaoKrYiZqlnmoM7T4vu0xi7Vpzd66/EzTL0ifvYSq0X9ClK4ToPrzl99FpT9tnOSV9S4lUlMhkZwNjMrlINLLnsLjCLIxQOJBDPjRHJ0H4dO1g8hVUdVi6zE/W8k1CB0ClYhGxr7nxmdGVz2ErjdfyST+F5Vm4fUmoLV8pfjrLKsxYlgwQhrLv06QmM8J/mXsW1SQrlcshzJB4qXhEYzPsQ==', 'Records': []}\n"
     ]
    },
    {
     "name": "stdout",
     "output_type": "stream",
     "text": [
      "{'MillisBehindLatest': 0, 'NextShardIterator': 'AAAAAAAAAAGK+yq0bbgInurnONYr4p7dG6NBwWBeUWCcSCecyL0uw0L+bCu+bkgVH4nUSkTf1rTYbCy4FiJNoeefR0XfA52s/yooqcI2+hwqQCA+VwkjN4MtRTSL4qdIFTBG1FhfTZDStwPZbp0CQcDadTDvTyeU6Kwu+kWF4K3LG2XuXHVQZzdC8+Gu8ivzOIFk49FIuzJJLYPRC3V9+F5q2xIA045NoGw+I/DlrpPn2lcvT+A4iw==', 'Records': []}\n",
      "{'MillisBehindLatest': 0, 'NextShardIterator': 'AAAAAAAAAAHnEnO28UKlWNV/qth0LZ9npOFsrtF+FLlzq/+qPTlYOGmejE+4+IOYCuRVGYA5T/DUEjBBto2oOjdPvGnJqKQWfRRY/38TPjA8lZ4v5FaYwv3m8D5iWKPamA2QUlCP2WiNT/k4HVsPO0zLFRintaqumE4Civ3q2sTSbtJGVUtS5u2uZG8EPIstb+BTxc0E/L3YJRgKhAE2SJFt1pIP/dp4BWISAkNBf9CU4Sj+xgZ9OA==', 'Records': []}\n",
      "{'MillisBehindLatest': 0, 'NextShardIterator': 'AAAAAAAAAAFk2J58jvODBR6IRt32vBEkaQEEn5t3puHQRKyff/q1he7uatDKzu1VLKy5VgOJ2SoXNZ8OrbfCHjLV3USz2CVEsvf8xMIYnYqI0HKpUP/+E9wq0CF/lCpT1MejdZh2rd0XSaUUhNlt6eLvhb7eVaxa7nwre2np8k6S33PK2BH7OlO8zYoXR6PKxRVoGh8jCCIO2Ep/fhPOZHWpFyMUNNK//0MKesYI/R3VdedyF+75wg==', 'Records': []}\n",
      "{'MillisBehindLatest': 0, 'NextShardIterator': 'AAAAAAAAAAGrpdKoqRKzF4oDdytKSOm3DYypDH6uzWblhp5Ww6rTJ3MAXKJqHDwceuku0vp86AsA1eXuSIEwBSMi/FbLUgW+FGjQDLXrSeVX6eBf/Fx4oOr7blM+PBE25qukuxX8dbFNS7VZQelEHyDsyrb1tSkE8X5MkC8cqNUVBrT46us9BW4Jpq9qICJgwdYmCTGKqO9X1YKKjnDVCu1yNMzaDWJRYKUs8/k/cjqsedilL867mQ==', 'Records': []}\n",
      "{'MillisBehindLatest': 0, 'NextShardIterator': 'AAAAAAAAAAFk9ynfnUNsOivrMa7q6un+HYxR0W9je1nrRoDaK0DofyHM09vIuKw29XChlTb5T2q6V4DTYJe4w/pIFdanIJWKJqQUy0FF4tQAQaJXdY/ovWXncKCMusRACLlLRUIyvQYr9hIAuwSwSFGYvYEv8tAIDfo92s38I6S46BYhyqhSpnYWU7UNJzsINmSGrjLkSmsI9b8pSn7CNOmGBjVjZ0FQUcrxSlGG9yKrlNYIjY5dAg==', 'Records': []}\n",
      "{'MillisBehindLatest': 0, 'NextShardIterator': 'AAAAAAAAAAHPIO9NaT4yH4dHUdPKSxVtUaZgTgq1EUpSGjrVkfaFhszAFL6EuqjyvvLYKBmgMds4Gxd3pmpThwloFjFna9ZSeK4EcxUgJ8OgGAWFDwYHmJ+odNMLEV6OJyaaiL4zJoarVaF0/wx7VrMbHlKLHdsI86TldUkNOpQhLnMariIxdVWsRkQm+O4iYwwsO9z1FbiK6ybZLYiRvI0TJslMhqBZNo6KlwbrVhm7wMkxPCWNSg==', 'Records': []}\n",
      "{'MillisBehindLatest': 0, 'NextShardIterator': 'AAAAAAAAAAEnp7J/hkcWIri2/B06klbKCgAB0T93oAhJdfNFbzTjrMIVFtAudRqYZ4ecKslfz7I3Nk284Ck7SEyTnRNXOfXjhMKleQjjFVhcVQVygpB6JyuQrBTCRzetm5DPi17u39hha7s6Pmcfl6nYOzOi7vyp7zgUnAztQOrdMddI9gpxJ/5jik3Y3kYBEoTg19Kv1CQvrf0CPN+dU9S/AVbeO7mg4LKh9gaGrZPxlbf7fnNyVg==', 'Records': []}\n",
      "{'MillisBehindLatest': 0, 'NextShardIterator': 'AAAAAAAAAAH1n4sH0FEnleuZ0ACdw3WrQLJiY2RvUHjjtzjLp2i4emIVvQvTJf/xiSylnopcDZOaYu3QAXBJvhN+uislcQvaqJa8H77psUr5m4ivK4Bgxlw6hW049/8Cfax6Sz4OO5GvuPQp5rPiSwoUMtBS3JqRXoTYYQL6gefaQaMH3GYam7TW5+Ovw3MYjE8SfMouf6qQYD2yIVnU8XeM/XaoztcyywYsTnq82kz/whY9G6Wkaw==', 'Records': []}\n",
      "{'MillisBehindLatest': 0, 'NextShardIterator': 'AAAAAAAAAAGj3K+Ew8b1yeAOfIL/dSDBqcsOst1U92Rkn4zFvHRkWFSnOyfuGgkRUR2Sw8WaLXmrPo8OUDbECWkwMzFryIs+HclW0E/CH99YLVXdbzUgD6lEynwXPJups07OYSN0UO+PS9EuwzigW+RuU+3GFxYZwHTtpNrXpjMQG5Dhow5xENDpzsUiupQbU1OU/x3XSVOQ/bPQxLSQT/kFVlRailOVJy94z1FeMaf8w9etr4Dk8g==', 'Records': []}\n",
      "{'MillisBehindLatest': 0, 'NextShardIterator': 'AAAAAAAAAAHGtMilnQTaQLJTi+OmK5lFXiINWUkPysiFzR8RosuNGi3ceSkKyp5+6PZ6y1SnNrMp6EnurNepZhdQhdKZYlqYgSVeuV8tZ/qzmzpQWSkopm6U60/dy661N/CH0uku8z/QuJiZV7h25NCFxjXO17jcdtk0ybsTi8eCXtH0P4Yf+vM+2iO3vzaxEJtvl0wmfs9VydQ3yQtYWVgYmwEvzIFrSR/ot5CLNRPkKMBKQUVEaw==', 'Records': []}\n",
      "{'MillisBehindLatest': 0, 'NextShardIterator': 'AAAAAAAAAAGDzDL8hzk0A9S/99Z7ASRKmjk372O1s9olzOiv7NOUInrX5xC0a1BYnZX0QTJ1HXDMUkk4+4qhvk5QXibqorwa1iv7BlCeUAjbd/HTcUxORMeJXS9B5+eNrBRZn0uHit8goNgNxg7P771f5bRrC9schR2o7hTLZz1itaoS1RLz9btVQlxDusjSkkFfThwCaU0hdDLWRqpCq1c5bXYPUwvXW4u0NOXJ4ZkS5G1zAJHjsA==', 'Records': []}\n",
      "{'MillisBehindLatest': 0, 'NextShardIterator': 'AAAAAAAAAAHbTLDl6mG35ZpGoWCSHpO/CFYtdZSlbX8iYvWW1KweZMhixQegEcLsO1vJ8Dz3tn8T0Mi5PIhBgU9oMCbhBpiZCJOoUyz03GOXMh+GoBWOQfZaQSgvIUGMAWLc3x2C0DsC06+bWPXRIE4EyozzFGICgNNbLCs5EyRmZh8FCCPxdz2HqU4mU45Y3VN7k171ZWMaim1cKYt7DswRM4N83nC3ueZS6hyl1+A173s8Em/bLQ==', 'Records': []}\n",
      "{'MillisBehindLatest': 0, 'NextShardIterator': 'AAAAAAAAAAGWxCYtE1ZvOQONHo367juV9BzvK9pf+JSmY2k4T2Es57QIQJWxbP1L08sQwAWcvxOBTDF3aTzXbVHy/0gvvT8bN7/fNvv6Augma0vi+Zog9LcEmwd5g0ZZYjtMum3axSfQX3+iNdk4BnsFHH8nlFYErDFD6Tg3SxY3avKLJODuyad7V2vpyt3ouDG9eBYqsQYQuEqp1+BejQxCoP5qNQsjozcn3ii2GG82Z13l6fagqg==', 'Records': []}\n",
      "{'MillisBehindLatest': 0, 'NextShardIterator': 'AAAAAAAAAAHuCDNGc3D7fHO2SHiaO1rkMPbF76uFQqNZzjnlg2aI2hzCkU2CKNeO67dRkXsEi8yxrc0hm6oLa4LSrKzz6kyJStxAaPjBKdROHhc/urlzWC/QoOL3w0K7u6mjhxC6lLP5VnYbkdgwxJzfP9crrFzzDLO22SbwC194jMmnrVNOOzQB1cDk+kLg8wsga7vCLzjzE7bTiv6/1p2ubtyYtCelopjqlsjmtW2sPiEGSoXaDg==', 'Records': []}\n",
      "{'MillisBehindLatest': 0, 'NextShardIterator': 'AAAAAAAAAAHh+L4CPS/BXzxgU76BUa1G+1N2Cnxlsnsosxl7K7sgO4fx3T2q6hIAdT7BoXzBRCqwT9u/uwdn/dhwZTHmTUbW2BtnNsNGR6RdQG8OlU3nCuTLOXUgBjdsHgTMMkx2BhiiPKvU2h6NWxl/+xYyLPkn+igtFrb+tuCzF41c27wOkT+FsZBUtCcivfFn0SJJhGXlwIQqac7Vw9c2zsJFt3urEAfQXAg8KbkXlj/T25t6pw==', 'Records': []}\n",
      "{'MillisBehindLatest': 0, 'NextShardIterator': 'AAAAAAAAAAGiuA5uybAZrC3HWJWIRvibTekbodKeV/XM4jIbh1oIif8MGCDS+S6Vib9CA413z2eKgso3Xd1tW2K3bG8r7pS2dDIjZUkOhx/qqRR3DqKjXHbgUCwO5zfhUblYhhry1aopB6IyZDwTk2G30nWOSEqkoJ7lM6hDRxHWmMpDKan9pvoOs/e/+UR9U1BmaJNieKwYmOao8jjuz+XI1NWDkiTQl5P5uR5cm0QG6vpzNjkV+A==', 'Records': []}\n",
      "{'MillisBehindLatest': 0, 'NextShardIterator': 'AAAAAAAAAAHscuKIzRmHPQdd6RKoNyGv7YQCI/LVCOx5+wOitA2oiE0NiqvilEWGl+im5yZXUJ3UBNZOVSZh8orVen5UOynqWaRUkPJYKj4ZX2MAyYdQ32l1QnPXnP5W2qnPzGWwOomLD5+rJSaoWnHTDIiHHfhfs5h4+d0Qdg3d0Pye29Tpsk+jeuqAc60iKsVfovCl4u2XFdrJR8nuCQs5UPOs4ScVNqIDb2MP+aq/KogkfCnOaA==', 'Records': []}\n",
      "{'MillisBehindLatest': 0, 'NextShardIterator': 'AAAAAAAAAAG2Fnj30tePS4vjJSJxZ9/ICEJpdHwyTkwV1iYnm3nNzeTdh1hNv8CaEL/sS/O7djwtkj2RfvWSIWqWG/qwIpSHa84I00md/E8Dmi/XSK2HOh4T85hjrFrzJedDuMTmMWZ4SL2KDEupbGg/S6HhI0UJgomYbPGmAHqbamGiExgLkmJvk5BzjsaIjSaQfiZt0YunAcuHqzVc6XcCpJh6MOTkJHoFK5OfxqeFclc/UVNmrA==', 'Records': []}\n",
      "{'MillisBehindLatest': 0, 'NextShardIterator': 'AAAAAAAAAAHkhoSB2QVCvPDuMBhXLMY3SmbpJMr6sVWuLq/2EApmjoy8U4klfXGElItzlHDkrP7FDk+bP7mD7y8OAf9dIEx9vGyx1A8WrkFc+l0d9tqDpof2th/BB367Nex65oUG7YN/Av4hymtWiedDzrtKaPylZv3KGP/900xfOAF8n9J9fbxl2EFZIwgFA3cXM8xOPMVXcFljlYYO4G1G9Y6C19WizkmvfvKEs3VHRxx6s9nVlQ==', 'Records': []}\n",
      "{'MillisBehindLatest': 0, 'NextShardIterator': 'AAAAAAAAAAGyWDFZ20TkN4YVlJiEUYj1IDEDOrVdTTBykTpWZDFhMnpnNUt3BW48wkSoZgx7yICgi56xhiNiQ3r5ane0rs17/58yKaL2kD0+BN7PVs5GqHlGGHjqYn4bQBPacm7qpL20tZ1WtIWDkAjKLt/P+4rfA5/pfFQWY4CB7at2xLXfGmPnmQ0zm1qKCby/nySMycvdOiohO8MURzI3lLVaWNIqgj2IkDveAvHRH0SGJl1vOw==', 'Records': []}\n",
      "{'MillisBehindLatest': 0, 'NextShardIterator': 'AAAAAAAAAAGNJj0va8ZMLcpxgniw7LNR+QD471TjpkCnE8FsDQKDk0eLPKzs9MBMz2Ur80CFK8xNaxhMCCBQEzJKGJ3ksnWek8qBiBFgPoyHBX72UiOYvp9SMchKcjtHDvuXBgAseH7nv/jezcq8FvIrJmVMMfqKzixfTlFeaa2J7sx5jxjAlMtmTGuUEfQHZfrCB4AAohieHSzEafBQ4IGVmJthgLYPG39iz9cdT2MCcG7bn5v9WA==', 'Records': []}\n",
      "{'MillisBehindLatest': 0, 'NextShardIterator': 'AAAAAAAAAAExZ/zCFU0A8Qvv1iUw0EKYd+lB970JXO/Wzwx5pbjSpKHOGeCQt5VLpZJMgpuAOhJV1oF+m/1k4kCkQIo7mCuv2DCqhLoKjRp8R8a0nUC4RdfJf9LMgAreKOkFuisUVWEtyjjYdDSXGYhiEH1Q4LQr1j/zDASyMP06U/7AzrqdoOiJLTKYeth62gs8eSc9E/a+fON7/dHJsz5zarP01vRbdDaf6Cs1X2sVTJA36na0Kw==', 'Records': []}\n",
      "{'MillisBehindLatest': 0, 'NextShardIterator': 'AAAAAAAAAAFa1NdIsGbSCIfd9DrGfVDQxMaWRLD3sEfN/Ef6zOrQwbAjSK7tRcb6ECN5T4ZpPVLb65ci5ZmAAdoBBWJ+lRrgUZidpJcJNyP2jODm4UlGrjTlaekHypqKcI4g/6pOfUmhu+S81sJYxLHkRnivGQDmnAjE4vhaDGhaKdYVR8BdwluorKkuEaxWSerJRh/QCxKZ7eyT7cIjJby0zhBe8ZWmLsibwXQZeYZ4YFyWDss8FQ==', 'Records': []}\n",
      "{'MillisBehindLatest': 0, 'NextShardIterator': 'AAAAAAAAAAH/l7VDAtD0/jrMWj31kFqp1562l0RXtt4w/Mv04F7pcljfJiXVFewgeuw0GkzJpf8mwRnf33U1mp3SV+KLbt3K0jX3gT+EUc6infZ30OtCePHWKwnxKx1uj0xuKGCtY13Tk7jtcuuRcpzpyfHDWt1iKokJTGY9aLt3YsM1EinwUDu2NKrx67Ie6M52CitebZa4/8+MhJ/c5H0DXgX/Z412rOWTUJ2f2Q55K9LNBYFA0A==', 'Records': []}\n",
      "{'MillisBehindLatest': 0, 'NextShardIterator': 'AAAAAAAAAAETAA+bI7qAFbHoLlj20nTsjdPCQystors/GsYw/SIpBXM9Q5Ki1K/ScScfEJTv7pUQ1lAMcdeTafB2on72ekzkAchuo1jTRsjazptGDsTQd5nQQ9FBP1DDXJpqgkLLGiojuYIqdN8UVeFAklsIBDUEBLCrYaL4vRfx5BRuWgedrqE524l+r/YcLk+gOM+1xkp62lhtmlVVtNaeNOJc9bHegLsT5FAqghqUzm6C1gysWA==', 'Records': []}\n",
      "{'MillisBehindLatest': 0, 'NextShardIterator': 'AAAAAAAAAAHfu+zO8kB/ypp0iyLAfQuXznQ6xKL1MI65nDy2pJShzckju4H5q/eLM6znb47YmK/ZaPwTohtia6cNh4FfDS3XykRcO57cZCWombOCiOWtyKIuIcak62XQvTxKkntYb9xgFsPiAMECekskLDCGjnjclRSeTuh0O2m6H9teus2ZREv7Rk3yVfp48w7Esq9Re76mTzOtDdWuT1kJUMyG6Pggk6IVBIwIal2KjZ5552nAbQ==', 'Records': []}\n",
      "{'MillisBehindLatest': 0, 'NextShardIterator': 'AAAAAAAAAAGOy5tLwAsM9rJ9HNo1X/hLZcDUH5YqrrjFlgG8kTJYjUBX+5pLPA5GiBjtM0PWiQxMDlKTQQ9wXnu01aPfiS5ipy4UBW8LWASzNrTdRcVROBmw0KaG5+ibVa+qthu5VVJqQ8ZiXFrx88FmjyVP999dSAi/h8yHOmpYCQSf1vYMzEbiEDFevAN/c6opzF20PybBef0tlVqtG8jUk1c7ajqtasxXqZ9MOnWtV8QX4hQywg==', 'Records': []}\n"
     ]
    },
    {
     "name": "stdout",
     "output_type": "stream",
     "text": [
      "{'MillisBehindLatest': 0, 'NextShardIterator': 'AAAAAAAAAAHPEM8ATVPq+imX9ThOxTnpnokSLqd9sgKj8ERy1x6kRllvO37pyduylg0hqJxZepy7dxVQYktT/Gw+R27qplusdw+3eBpP9W/24OyKSmXJnhhjUtGBtxgZeP7nYD78JtbGsKn3w7HPQ6HhW3F/oVIQ9j4ZH68eUxOspuYaqKxSBed5vCYRlrB1McSYR1hgSkI5LcL3jj3/17VKzJDVHSx58Jer+xJB5nxs7tD1kXVC+A==', 'Records': []}\n",
      "{'MillisBehindLatest': 0, 'NextShardIterator': 'AAAAAAAAAAGoU/xAdQ6a9/PohM8vdIvrBKZ1TKwHvPqZX103hsKXyWjIiwBwj+Ucv9Jf+2Vf5nJdhZJChW7cYe/6qPdlBmnxWa7aNZVR0rfH4NHyrprXfhyP41fj3FxEjkXx60xUV7NTF82AJZZlWUqg8P3Dntie/Njxhax0k+WuRQTt55VRhys1p7cb6I2NIpXzxgJl2i1MVxxc9bx5kVnsarXTwbO9yfcVlITMlVivP5Lx0e93jA==', 'Records': []}\n",
      "{'MillisBehindLatest': 0, 'NextShardIterator': 'AAAAAAAAAAGmry+revlUFf+FQDU6r5TxceVKzXnrKvcNq2PAuHsbBEHaKhau/Qn5BrKzMOR/AV6aZZRW6dgL0jwjU1f0SO57EE5BkMst9vZxB+jy+KwsiVi6pXTJKwd2ItY7BsvRXUyl60Wl5zhE2W6Vd0CsodhbICJCnj5nDIjnG+y13E5F84MTSHzOjLU85bMmXM0fDQsTB/9f1R7LVrnwuOB9Sc8OyKE46Vja1OP1ugLXiYzBFw==', 'Records': []}\n",
      "{'MillisBehindLatest': 0, 'NextShardIterator': 'AAAAAAAAAAFZPSjlG/yAUivhQaMLmQGBCdTHPFMv4PeEYydI/OZ4w77eqhjb7ecsQlKC4cgN1zwQgZb7ZHw0wf9jd4ufjWiBP/GgOsQ8uhyI3vA7GRTEWI0sXJhBtAUrkpk/aK1J/mxbLK47tXjj4aftcXY/8xCnh3p+krscUQ0x5mdhW9hAdQqt+64yhnSXQ17aKt3TJPtzGftkMgM4qKhUbJ33UmyfHIel7EVAL2/C/kSYpY+l2Q==', 'Records': []}\n",
      "{'MillisBehindLatest': 0, 'NextShardIterator': 'AAAAAAAAAAFAkSWNOwVlFOSj2hYm8J+gC4nB1n9P9Bw+dR6i9ygRU6HrfBAnsArZWBA8xP2u7d/WUT/rVBqDsEFVXd4Bv9wYspor1v1em6uZ9Q0DfPHM7d/DptLHr+g/zpgLVgvZf1N0+mSU7R3QdNOj2QocFIVBzg9G44fHfLJ092syNxoPPOqC21rl+7WRZNQ9H8Q8LOSDcmQzHxB5rW9GVBCQ+OIQg67J/+KZ0lIO4FkYoeU5rg==', 'Records': []}\n"
     ]
    }
   ],
   "source": [
    "while 1==1:\n",
    "    out = kinesis.get_records(shard_it, limit=2)\n",
    "    shard_it = out[\"NextShardIterator\"]\n",
    "    print(out)\n",
    "    time.sleep(0.2)"
   ]
  },
  {
   "cell_type": "code",
   "execution_count": 56,
   "id": "ee6e7f2e-c2b5-47a5-847d-7426bd82bf05",
   "metadata": {},
   "outputs": [],
   "source": [
    "# Analyze Kinesis stream\n",
    "\n",
    "# !pip3 install namegenerator\n",
    "\n",
    "\n",
    "from boto import kinesis\n",
    "from __future__ import division\n",
    "import time\n",
    "import json\n",
    "import namegenerator\n",
    "from datetime import datetime"
   ]
  },
  {
   "cell_type": "code",
   "execution_count": 86,
   "id": "b6e3c651",
   "metadata": {},
   "outputs": [],
   "source": [
    "\n",
    "def get_data():\n",
    "    list1 = []\n",
    "#     list1 str(namegenerator.gen()+'=='+str(datetime.now()))\n",
    "    list1 = [{\"ab\": \"34\"}, {\"3415\": \"3452\"}, {\"gender\": \"male\"}]\n",
    "    return list1\n",
    "    \n",
    "\n",
    "# datetime.now()"
   ]
  },
  {
   "cell_type": "code",
   "execution_count": 88,
   "id": "d91c3688",
   "metadata": {},
   "outputs": [
    {
     "data": {
      "text/plain": [
       "[{'ab': '34'}, {'3415': '3452'}, {'gender': 'male'}]"
      ]
     },
     "execution_count": 88,
     "metadata": {},
     "output_type": "execute_result"
    }
   ],
   "source": [
    "get_data()"
   ]
  },
  {
   "cell_type": "code",
   "execution_count": 91,
   "id": "be851ebe",
   "metadata": {},
   "outputs": [
    {
     "ename": "ParamValidationError",
     "evalue": "Parameter validation failed:\nUnknown parameter in input: \"PartitionKey\", must be one of: Records, StreamName\nMissing required parameter in Records[0]: \"Data\"\nMissing required parameter in Records[0]: \"PartitionKey\"\nUnknown parameter in Records[0]: \"ab\", must be one of: Data, ExplicitHashKey, PartitionKey\nMissing required parameter in Records[1]: \"Data\"\nMissing required parameter in Records[1]: \"PartitionKey\"\nUnknown parameter in Records[1]: \"3415\", must be one of: Data, ExplicitHashKey, PartitionKey\nMissing required parameter in Records[2]: \"Data\"\nMissing required parameter in Records[2]: \"PartitionKey\"\nUnknown parameter in Records[2]: \"gender\", must be one of: Data, ExplicitHashKey, PartitionKey",
     "output_type": "error",
     "traceback": [
      "\u001b[0;31m---------------------------------------------------------------------------\u001b[0m",
      "\u001b[0;31mParamValidationError\u001b[0m                      Traceback (most recent call last)",
      "Input \u001b[0;32mIn [91]\u001b[0m, in \u001b[0;36m<cell line: 5>\u001b[0;34m()\u001b[0m\n\u001b[1;32m      1\u001b[0m \u001b[38;5;28;01mimport\u001b[39;00m \u001b[38;5;21;01mboto3\u001b[39;00m\n\u001b[1;32m      3\u001b[0m client \u001b[38;5;241m=\u001b[39m boto3\u001b[38;5;241m.\u001b[39mclient(\u001b[38;5;124m'\u001b[39m\u001b[38;5;124mkinesis\u001b[39m\u001b[38;5;124m'\u001b[39m)\n\u001b[0;32m----> 5\u001b[0m \u001b[43mclient\u001b[49m\u001b[38;5;241;43m.\u001b[39;49m\u001b[43mput_records\u001b[49m\u001b[43m(\u001b[49m\n\u001b[1;32m      6\u001b[0m \u001b[43m            \u001b[49m\u001b[43mStreamName\u001b[49m\u001b[38;5;241;43m=\u001b[39;49m\u001b[38;5;124;43m\"\u001b[39;49m\u001b[38;5;124;43mds-ms-1\u001b[39;49m\u001b[38;5;124;43m\"\u001b[39;49m\u001b[43m,\u001b[49m\n\u001b[1;32m      7\u001b[0m \u001b[43m            \u001b[49m\u001b[43mRecords\u001b[49m\u001b[38;5;241;43m=\u001b[39;49m\u001b[43mget_data\u001b[49m\u001b[43m(\u001b[49m\u001b[43m)\u001b[49m\u001b[43m,\u001b[49m\n\u001b[1;32m      8\u001b[0m \u001b[43m            \u001b[49m\u001b[43mPartitionKey\u001b[49m\u001b[38;5;241;43m=\u001b[39;49m\u001b[38;5;124;43m\"\u001b[39;49m\u001b[38;5;124;43mpartitionkey\u001b[39;49m\u001b[38;5;124;43m\"\u001b[39;49m\u001b[43m)\u001b[49m\n",
      "File \u001b[0;32m/usr/local/lib/python3.9/site-packages/botocore/client.py:415\u001b[0m, in \u001b[0;36mClientCreator._create_api_method.<locals>._api_call\u001b[0;34m(self, *args, **kwargs)\u001b[0m\n\u001b[1;32m    412\u001b[0m     \u001b[38;5;28;01mraise\u001b[39;00m \u001b[38;5;167;01mTypeError\u001b[39;00m(\n\u001b[1;32m    413\u001b[0m         \u001b[38;5;124m\"\u001b[39m\u001b[38;5;132;01m%s\u001b[39;00m\u001b[38;5;124m() only accepts keyword arguments.\u001b[39m\u001b[38;5;124m\"\u001b[39m \u001b[38;5;241m%\u001b[39m py_operation_name)\n\u001b[1;32m    414\u001b[0m \u001b[38;5;66;03m# The \"self\" in this scope is referring to the BaseClient.\u001b[39;00m\n\u001b[0;32m--> 415\u001b[0m \u001b[38;5;28;01mreturn\u001b[39;00m \u001b[38;5;28;43mself\u001b[39;49m\u001b[38;5;241;43m.\u001b[39;49m\u001b[43m_make_api_call\u001b[49m\u001b[43m(\u001b[49m\u001b[43moperation_name\u001b[49m\u001b[43m,\u001b[49m\u001b[43m \u001b[49m\u001b[43mkwargs\u001b[49m\u001b[43m)\u001b[49m\n",
      "File \u001b[0;32m/usr/local/lib/python3.9/site-packages/botocore/client.py:715\u001b[0m, in \u001b[0;36mBaseClient._make_api_call\u001b[0;34m(self, operation_name, api_params)\u001b[0m\n\u001b[1;32m    707\u001b[0m     logger\u001b[38;5;241m.\u001b[39mdebug(\u001b[38;5;124m'\u001b[39m\u001b[38;5;124mWarning: \u001b[39m\u001b[38;5;132;01m%s\u001b[39;00m\u001b[38;5;124m.\u001b[39m\u001b[38;5;132;01m%s\u001b[39;00m\u001b[38;5;124m() is deprecated\u001b[39m\u001b[38;5;124m'\u001b[39m,\n\u001b[1;32m    708\u001b[0m                  service_name, operation_name)\n\u001b[1;32m    709\u001b[0m request_context \u001b[38;5;241m=\u001b[39m {\n\u001b[1;32m    710\u001b[0m     \u001b[38;5;124m'\u001b[39m\u001b[38;5;124mclient_region\u001b[39m\u001b[38;5;124m'\u001b[39m: \u001b[38;5;28mself\u001b[39m\u001b[38;5;241m.\u001b[39mmeta\u001b[38;5;241m.\u001b[39mregion_name,\n\u001b[1;32m    711\u001b[0m     \u001b[38;5;124m'\u001b[39m\u001b[38;5;124mclient_config\u001b[39m\u001b[38;5;124m'\u001b[39m: \u001b[38;5;28mself\u001b[39m\u001b[38;5;241m.\u001b[39mmeta\u001b[38;5;241m.\u001b[39mconfig,\n\u001b[1;32m    712\u001b[0m     \u001b[38;5;124m'\u001b[39m\u001b[38;5;124mhas_streaming_input\u001b[39m\u001b[38;5;124m'\u001b[39m: operation_model\u001b[38;5;241m.\u001b[39mhas_streaming_input,\n\u001b[1;32m    713\u001b[0m     \u001b[38;5;124m'\u001b[39m\u001b[38;5;124mauth_type\u001b[39m\u001b[38;5;124m'\u001b[39m: operation_model\u001b[38;5;241m.\u001b[39mauth_type,\n\u001b[1;32m    714\u001b[0m }\n\u001b[0;32m--> 715\u001b[0m request_dict \u001b[38;5;241m=\u001b[39m \u001b[38;5;28;43mself\u001b[39;49m\u001b[38;5;241;43m.\u001b[39;49m\u001b[43m_convert_to_request_dict\u001b[49m\u001b[43m(\u001b[49m\n\u001b[1;32m    716\u001b[0m \u001b[43m    \u001b[49m\u001b[43mapi_params\u001b[49m\u001b[43m,\u001b[49m\u001b[43m \u001b[49m\u001b[43moperation_model\u001b[49m\u001b[43m,\u001b[49m\u001b[43m \u001b[49m\u001b[43mcontext\u001b[49m\u001b[38;5;241;43m=\u001b[39;49m\u001b[43mrequest_context\u001b[49m\u001b[43m)\u001b[49m\n\u001b[1;32m    717\u001b[0m resolve_checksum_context(request_dict, operation_model, api_params)\n\u001b[1;32m    719\u001b[0m service_id \u001b[38;5;241m=\u001b[39m \u001b[38;5;28mself\u001b[39m\u001b[38;5;241m.\u001b[39m_service_model\u001b[38;5;241m.\u001b[39mservice_id\u001b[38;5;241m.\u001b[39mhyphenize()\n",
      "File \u001b[0;32m/usr/local/lib/python3.9/site-packages/botocore/client.py:765\u001b[0m, in \u001b[0;36mBaseClient._convert_to_request_dict\u001b[0;34m(self, api_params, operation_model, context)\u001b[0m\n\u001b[1;32m    761\u001b[0m \u001b[38;5;28;01mdef\u001b[39;00m \u001b[38;5;21m_convert_to_request_dict\u001b[39m(\u001b[38;5;28mself\u001b[39m, api_params, operation_model,\n\u001b[1;32m    762\u001b[0m                              context\u001b[38;5;241m=\u001b[39m\u001b[38;5;28;01mNone\u001b[39;00m):\n\u001b[1;32m    763\u001b[0m     api_params \u001b[38;5;241m=\u001b[39m \u001b[38;5;28mself\u001b[39m\u001b[38;5;241m.\u001b[39m_emit_api_params(\n\u001b[1;32m    764\u001b[0m         api_params, operation_model, context)\n\u001b[0;32m--> 765\u001b[0m     request_dict \u001b[38;5;241m=\u001b[39m \u001b[38;5;28;43mself\u001b[39;49m\u001b[38;5;241;43m.\u001b[39;49m\u001b[43m_serializer\u001b[49m\u001b[38;5;241;43m.\u001b[39;49m\u001b[43mserialize_to_request\u001b[49m\u001b[43m(\u001b[49m\n\u001b[1;32m    766\u001b[0m \u001b[43m        \u001b[49m\u001b[43mapi_params\u001b[49m\u001b[43m,\u001b[49m\u001b[43m \u001b[49m\u001b[43moperation_model\u001b[49m\u001b[43m)\u001b[49m\n\u001b[1;32m    767\u001b[0m     \u001b[38;5;28;01mif\u001b[39;00m \u001b[38;5;129;01mnot\u001b[39;00m \u001b[38;5;28mself\u001b[39m\u001b[38;5;241m.\u001b[39m_client_config\u001b[38;5;241m.\u001b[39minject_host_prefix:\n\u001b[1;32m    768\u001b[0m         request_dict\u001b[38;5;241m.\u001b[39mpop(\u001b[38;5;124m'\u001b[39m\u001b[38;5;124mhost_prefix\u001b[39m\u001b[38;5;124m'\u001b[39m, \u001b[38;5;28;01mNone\u001b[39;00m)\n",
      "File \u001b[0;32m/usr/local/lib/python3.9/site-packages/botocore/validate.py:359\u001b[0m, in \u001b[0;36mParamValidationDecorator.serialize_to_request\u001b[0;34m(self, parameters, operation_model)\u001b[0m\n\u001b[1;32m    356\u001b[0m     report \u001b[38;5;241m=\u001b[39m \u001b[38;5;28mself\u001b[39m\u001b[38;5;241m.\u001b[39m_param_validator\u001b[38;5;241m.\u001b[39mvalidate(parameters,\n\u001b[1;32m    357\u001b[0m                                             operation_model\u001b[38;5;241m.\u001b[39minput_shape)\n\u001b[1;32m    358\u001b[0m     \u001b[38;5;28;01mif\u001b[39;00m report\u001b[38;5;241m.\u001b[39mhas_errors():\n\u001b[0;32m--> 359\u001b[0m         \u001b[38;5;28;01mraise\u001b[39;00m ParamValidationError(report\u001b[38;5;241m=\u001b[39mreport\u001b[38;5;241m.\u001b[39mgenerate_report())\n\u001b[1;32m    360\u001b[0m \u001b[38;5;28;01mreturn\u001b[39;00m \u001b[38;5;28mself\u001b[39m\u001b[38;5;241m.\u001b[39m_serializer\u001b[38;5;241m.\u001b[39mserialize_to_request(parameters,\n\u001b[1;32m    361\u001b[0m                                              operation_model)\n",
      "\u001b[0;31mParamValidationError\u001b[0m: Parameter validation failed:\nUnknown parameter in input: \"PartitionKey\", must be one of: Records, StreamName\nMissing required parameter in Records[0]: \"Data\"\nMissing required parameter in Records[0]: \"PartitionKey\"\nUnknown parameter in Records[0]: \"ab\", must be one of: Data, ExplicitHashKey, PartitionKey\nMissing required parameter in Records[1]: \"Data\"\nMissing required parameter in Records[1]: \"PartitionKey\"\nUnknown parameter in Records[1]: \"3415\", must be one of: Data, ExplicitHashKey, PartitionKey\nMissing required parameter in Records[2]: \"Data\"\nMissing required parameter in Records[2]: \"PartitionKey\"\nUnknown parameter in Records[2]: \"gender\", must be one of: Data, ExplicitHashKey, PartitionKey"
     ]
    }
   ],
   "source": [
    "import boto3\n",
    "\n",
    "client = boto3.client('kinesis')\n",
    "\n",
    "client.put_records(\n",
    "            StreamName=\"ds-ms-1\",\n",
    "            Records=get_data(),\n",
    "            PartitionKey=\"partitionkey\")"
   ]
  },
  {
   "cell_type": "code",
   "execution_count": 37,
   "id": "83fe087f",
   "metadata": {
    "scrolled": true
   },
   "outputs": [
    {
     "data": {
      "text/plain": [
       "'muggy-maroon-lionfish==2022-04-23 12:49:57.442099'"
      ]
     },
     "execution_count": 37,
     "metadata": {},
     "output_type": "execute_result"
    }
   ],
   "source": []
  },
  {
   "cell_type": "code",
   "execution_count": null,
   "id": "e6db69bd",
   "metadata": {},
   "outputs": [],
   "source": []
  }
 ],
 "metadata": {
  "kernelspec": {
   "display_name": "Python 3 (ipykernel)",
   "language": "python",
   "name": "python3"
  },
  "language_info": {
   "codemirror_mode": {
    "name": "ipython",
    "version": 3
   },
   "file_extension": ".py",
   "mimetype": "text/x-python",
   "name": "python",
   "nbconvert_exporter": "python",
   "pygments_lexer": "ipython3",
   "version": "3.9.12"
  }
 },
 "nbformat": 4,
 "nbformat_minor": 5
}
