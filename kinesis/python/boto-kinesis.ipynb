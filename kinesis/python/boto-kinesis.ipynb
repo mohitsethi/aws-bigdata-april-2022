{
 "cells": [
  {
   "cell_type": "code",
   "execution_count": 6,
   "id": "8cc7f5fd-fba4-4d3c-919b-7a8a399af1d8",
   "metadata": {},
   "outputs": [
    {
     "name": "stdout",
     "output_type": "stream",
     "text": [
      "\u001b[33mDEPRECATION: Configuring installation scheme with distutils config files is deprecated and will no longer work in the near future. If you are using a Homebrew or Linuxbrew Python, please see discussion at https://github.com/Homebrew/homebrew-core/issues/76621\u001b[0m\u001b[33m\n",
      "\u001b[0mCollecting boto\n",
      "  Downloading boto-2.49.0-py2.py3-none-any.whl (1.4 MB)\n",
      "\u001b[2K     \u001b[38;2;114;156;31m━━━━━━━━━━━━━━━━━━━━━━━━━━━━━━━━━━━━━━━━\u001b[0m \u001b[32m1.4/1.4 MB\u001b[0m \u001b[31m8.3 MB/s\u001b[0m eta \u001b[36m0:00:00\u001b[0mm eta \u001b[36m0:00:01\u001b[0m[36m0:00:01\u001b[0m\n",
      "\u001b[?25hInstalling collected packages: boto\n",
      "\u001b[33m  DEPRECATION: Configuring installation scheme with distutils config files is deprecated and will no longer work in the near future. If you are using a Homebrew or Linuxbrew Python, please see discussion at https://github.com/Homebrew/homebrew-core/issues/76621\u001b[0m\u001b[33m\n",
      "\u001b[0m\u001b[33mDEPRECATION: Configuring installation scheme with distutils config files is deprecated and will no longer work in the near future. If you are using a Homebrew or Linuxbrew Python, please see discussion at https://github.com/Homebrew/homebrew-core/issues/76621\u001b[0m\u001b[33m\n",
      "\u001b[0mSuccessfully installed boto-2.49.0\n"
     ]
    }
   ],
   "source": [
    "!pip3 install boto\n",
    "!pip3 install notebook"
   ]
  },
  {
   "cell_type": "code",
   "execution_count": 7,
   "id": "b2a064d5",
   "metadata": {},
   "outputs": [],
   "source": [
    "\n",
    "from boto import kinesis\n",
    "import time\n",
    "# import os1"
   ]
  },
  {
   "cell_type": "code",
   "execution_count": 8,
   "id": "9fc5cc4f-80f7-45d0-b255-b30811e49c10",
   "metadata": {},
   "outputs": [
    {
     "name": "stdout",
     "output_type": "stream",
     "text": [
      "boto-kinesis.ipynb       kinesis-python-stream.md\r\n"
     ]
    }
   ],
   "source": [
    "!ls"
   ]
  },
  {
   "cell_type": "code",
   "execution_count": 9,
   "id": "6418b55b-6fe2-4473-be2e-9e2d91533792",
   "metadata": {},
   "outputs": [],
   "source": [
    "kinesis = kinesis.connect_to_region(\"ap-south-1\")"
   ]
  },
  {
   "cell_type": "code",
   "execution_count": 10,
   "id": "a19f2e02-4aa9-4e5a-af4c-433012e01f60",
   "metadata": {},
   "outputs": [],
   "source": [
    "shard_id = 'shardId-000000000000' #we only have one shard!"
   ]
  },
  {
   "cell_type": "code",
   "execution_count": 11,
   "id": "8d702003-10bb-458c-b45a-ad9c81d466a6",
   "metadata": {},
   "outputs": [],
   "source": [
    "shard_it = kinesis.get_shard_iterator(\"ds-ms-1\", shard_id, \"LATEST\")[\"ShardIterator\"]"
   ]
  },
  {
   "cell_type": "code",
   "execution_count": 12,
   "id": "00c82bb6-502d-4931-842c-96bcfcc4c1ed",
   "metadata": {
    "scrolled": true,
    "tags": []
   },
   "outputs": [
    {
     "name": "stdout",
     "output_type": "stream",
     "text": [
      "{'MillisBehindLatest': 0, 'NextShardIterator': 'AAAAAAAAAAGvuH+55bBIGOBnvCJ3OkzVhxQODYzH4AgbLBXJJ7BBuuwvUQ40gvENBA7/53DaZQ2hz2Bl3UyCpJjly6vFY1cWAJk3jLRAQyRoytsmydAHIKNoR+34MtLN8vn7L4jORc5/yFw8JklPcjoq5nzO8hsOA9Jy2wSi33CM8GKWPTlDZBpFZioWvQRUtFXel62zz+idl4k9jja8Q1e1xHf3sIdsDChAl7p/g2ecobQS6ABNCg==', 'Records': []}\n",
      "{'MillisBehindLatest': 0, 'NextShardIterator': 'AAAAAAAAAAHm3uRHrQTgErjx1vGIHzY5M1hT+f2N8f3vSKUAZVSnSwf+6i5WehCivWAs8AqqP0XJspxjb8Sl5b8fR0Rx4GWmOhAywXsMjRMOkyelDZvcTdvOddvMdWW1sN1YpP/UVPii7/ztF8yDZY0embdyDU7R30834oJYGgVb6CKtyl5b6G+QRNeDrhH24ZG58DWPgjnfXbeW694r1n5k2cIBBbYkrahN1qCIHdCeN4urLWlQ9Q==', 'Records': []}\n",
      "{'MillisBehindLatest': 0, 'NextShardIterator': 'AAAAAAAAAAGtRlttc1CkvVBt5nD6i4wL/2kLABwVOFAKZ0qhs/Jpptg3FZRYCGjMxfwJW82Z2+AR/oC6v/5RHspCeRwwrJ7qUh6uWhqxeKNTozjXmA33oz+/yQPQv1Jz3GsgLo0iwh3AJpxe8qH+FTkEZoxUf46q2wyu41A3QsE+mNHfqLtvlB/anaUi9sDY0IlGBPF/Wktpn7jNqBQvuWOb+xg6JmFzrgmxgBy65GiWihmmt0TNfA==', 'Records': []}\n",
      "{'MillisBehindLatest': 0, 'NextShardIterator': 'AAAAAAAAAAHivz2cNlQf+r1dHPnmquu+n61AXGEHq2pl56L4Lp2U/JPY8IDVnyCXitsCVcEKmEog/hwwV+1PGyvZO9k/SGFkXeWYbNsKoKHdyedqBmHWvwEQ90c3sMgYo8Hc3xG0Nu2JxO0fs8w3QyRIG84FY0gbh3V+rbaHo1P8i8TQ0wRRjLa3Gmen/zWOaeitXFF2UX95ACAKbOG70kP75blPzM9IRAwxf926Moi2qvjgqP7GYw==', 'Records': []}\n",
      "{'MillisBehindLatest': 0, 'NextShardIterator': 'AAAAAAAAAAG8P/14FGBJ0lTH8mnPQbOYg7lSBpq6b1cwoPla+X0b/AhA1xhw+/uNDd7M3xxhMILWPtdANqwvxEW2agJh/9v3LnyMwn08wU6XUustQ+CkRC3Epqi/PLhrTB/UlimP3wPu0gYB9u4afuD6O72vMKy1KXw8TzpjfFn/joBHGG6XGE0R1jVazI9nUYxjz0+BSi66Bm9RaBt2tTr1yjSfd9natbJqRxJlTlS8TSJeW9xVaA==', 'Records': []}\n",
      "{'MillisBehindLatest': 0, 'NextShardIterator': 'AAAAAAAAAAGFdid8OIO5abOHon9H04HEkjLnIv9NOjWsKqoSQyBuO4PPMvZ2VIvfIOWt71IPW+AZ3QmI6z3VRQse836pRoAxki94WQ7ZC+K67wvXyyPG8Vm7dXrugr1jCQIx5I8kZra6868dtb6gquBYv7WhSijtyUxX6QBoxA0a1EKIORqso5A6G6BvKxPT0qMVO+eIVpjILcsh8hv7bygq4/eHykvFsloHfFLR6lDq0PaeXigBZw==', 'Records': []}\n",
      "{'MillisBehindLatest': 0, 'NextShardIterator': 'AAAAAAAAAAG8vPB0F3Mq4/00Ky7Zjs2H37QLSBoCSU8Z1kyR5tPLMFfHrouoG3lkqZN3Evb//1vqWDaKQfDSA3pSaCLUqykh1QoVGMsTVwrh8dipHnu323i42S7IY26f5htTcsNfTbNvcKYmURqlyDHzFMeVgnkBk0Tj+BQDWNYvwHLZUHnkNJQk8oSCl9Cmch4GGK0obKxVhz9XK84ekZDufqCXPlF3/AjTKJ0+reVm3L4G+ZDzJw==', 'Records': []}\n",
      "{'MillisBehindLatest': 0, 'NextShardIterator': 'AAAAAAAAAAGKnNQOFe9e+n38SolXbIuORbrk04c7gV+lq2r2W3akxasmNVWQopMy3Ksy0bND8yh5UV+08S35gvWHsCS8cPStGkVVzsS6TYCJUMPvgXDXA9G+CjntJVexSQgUI9EyCwi9J2Q+s9AbxRrPQwJin+J0F2C81xukvO0amPjlNPJwuj3OXLn5Zh2m0/j/TjxZrR2h+EDC1+xAeDNiVXOyB2ST5ZJ9tmwJc6VHq+bn3bMEvg==', 'Records': []}\n",
      "{'MillisBehindLatest': 0, 'NextShardIterator': 'AAAAAAAAAAGPrn7DYMIA6rhf1HUlO8JBonFEnJfqi1pKZ5vQemUl6TvesVoCFle0FEQw9NJidmaMKgX5PiGLmrZDJkQ/FTA2jRHu+JX9HkFMhvemmDc+m8U74A1DZ+WS2c3WGl5m2Y70XWBLHDnsKOCQeMza1mzSiOeSC1SJy92nPuzioA63nvHFXgpph2CX4FiX2RyqAcDnWD5kQUo9SMf6GAtFgpAEMGp78NJNCVj8eHwTsIDSQA==', 'Records': []}\n",
      "{'MillisBehindLatest': 0, 'NextShardIterator': 'AAAAAAAAAAHFTWi0fMv5QScr//wjDZ+UOdIdPhP03EQQt8SkdVhnMSWEP4UYxPMWdYpwhdVyxNb6pezNOGbJTmUWIKGibVE2170Aa0oqTbb/YhjggFlxCfwXN9PMgmutauGMB/cinfuvka5C8v8PBlKEEx/TZ7Q2XiFc7oF0n384z/xVs995VkhLePu2yI0FzQ63+w7npDnLbtI7IiVIRRMdHS5OXV2Kfbi7hVK+jB8iE3LbecLdmQ==', 'Records': []}\n",
      "{'MillisBehindLatest': 0, 'NextShardIterator': 'AAAAAAAAAAG0UlqLH+5E1aXyRCibW8JCbC8vMsxU4RD6Bbt4PODmM9nSHoBew+qHGRRC1d0mzMtshtgRRkhNgorxaXe9xHyjK0+7mlpvSdO0coVpPqtoII1M0uRplFd1YXYgsi9sy4+dSnAKpnK4hYIBvCLYck1YW4yP4gi+p+TzPpb3RiLN7N/Wh7SNKvI2RIkqymfRz7Rpe0xDlgCp5rkQPWhEr21Tw4cTgMh4ro3NuhWnuvcwSA==', 'Records': []}\n",
      "{'MillisBehindLatest': 0, 'NextShardIterator': 'AAAAAAAAAAGqGWQL6mDS008O+q/6j2MfUVw3xMsIawr3jbVco/k0BSEAB7eWe1oTx7t7DI4sWM8vt+H8tPnfuLFEst/CflpEAYTAITKDBfs+MN53W7ImNX2bUNJUUJDSKUH6muzr+fAURswuHU2ysUNVGWvxB2D5qHtVnplMDlbTL+i4tLqyQBDxzjB2nJKBUrqyK7yu55tUvnREZXwuUl31BfA3ogNo2XfZv/9ZTqQNCt8qYiR8SQ==', 'Records': []}\n",
      "{'MillisBehindLatest': 0, 'NextShardIterator': 'AAAAAAAAAAH66UsLOmxw6W5xjntsYNywBad5LYZv4e3pyTxvh0Td50uiPL2OmZK/pTJido8CkekPDIkuyXp2xirEA49EDlIgfT5g/bpjuRLaxguMwttNaaRCyKHAcCaVUfyRPn7LmYjQgE1vlNL75Qcybx3YZA/OJh2svvG6zx+Q0NDfbnHJFMMsjkfJo/ykIVBJoFcAFyDm/JiB7aZIPHoGoOciKYhlB8tdmjl+Kddln84Naj7dwA==', 'Records': []}\n",
      "{'MillisBehindLatest': 0, 'NextShardIterator': 'AAAAAAAAAAH/eF0Z2UDTvZ1EcscaOaiRYN6h37hKtkmCB24xMDXAmnRQr1ctzb2DhEPCSqLWfABdmNjXz+QU05N7IJuM8WUNfDafsd7ujcDBnZu8JQ1OnGP3HjHC2nYDPj716WXj/D7jMjWJeiO8qLO6Y9gU0IHUdAu58UbwBdJtIntIUdIurq883hhrqNZBtcTtKMrM43+b8v+BgBoNsXmD4fvzVpOdE2cA600ub/dwEtfBd4D/0Q==', 'Records': []}\n",
      "{'MillisBehindLatest': 0, 'NextShardIterator': 'AAAAAAAAAAEmgZjEgh9f1NtAUc63d+3YPii/VGyLVcuBemgnqUWC2Vo0i3MlDaa1T8ZlodAZSZ0bCiljOKfrwJpVYiaNXCqzP2SHTaN9NWz6onKWJCpJjEtYusYX6Q+kPychYV8IHePOKufPCTq9LFP0I9BlT/CIUycwxLdT2sFW1TnpN/QUXOIRib7Xx9+7YTBRDeurjSwCK4nzgXYa+4U+qXIqEpWKIWrqRcNZbh/1mwGxoO+GGg==', 'Records': []}\n",
      "{'MillisBehindLatest': 0, 'NextShardIterator': 'AAAAAAAAAAGEqYu35cXGHfIHqG3CSrfS5TJL5ldxsY5Huc71g+eesAzZqfZkXlIf1v+lH1CJUcWpdTb2I/YwpR8OX3lazpr7NrSNT3I1oxrDPBkhcvg1UtlSdXZ4DMSfWi6v+ekHxtdoj0miAg3HPln9iiblnAC+l5MOb31xdT0as3wX33rCU04/oYyD9nwIzDPB5r77xW9bDQn6BFDvN32KDxTcbjDvyGOaLZsLFwqg7sMjNpUaug==', 'Records': []}\n",
      "{'MillisBehindLatest': 0, 'NextShardIterator': 'AAAAAAAAAAE4xRUYsQWV/hvfoNGUc/mxxoRChb8a2uzAGeHLlrNIFGwDFAsjnIT04MDVrYISfrpX/dsQ0YrmxacwsFRwCCZVcaIaoP749/Exu7GRf4rvZQkan4ZQjYEodD+IESUJ8/N5WGjPWbxo2VSNTiOK771vk6rGlOjeD7znvtihOPY7nBJH6dvo4qSGG9oLCNCXhXoic9ed4zSlbnLgbW0PQoaO/kpyuk0U71n3tD4LoX7HMg==', 'Records': []}\n",
      "{'MillisBehindLatest': 0, 'NextShardIterator': 'AAAAAAAAAAEB8ZJq22wLtTc6QCEBm5adoJ1+KjSkF7HZqaCjjpYUOFUsvtBWEq/g1bLxDPTqHYsSnHvImYILeJ9Uvq7WhpijTPm1owXEHX6wcjeQl+LM1aN4DJJrN5Fw0sZMLr22UuyLASrNPN30kt++wbGyi7KTJ7Lt8Y6Jqp/5EAhz9Jq9VcfGGIlGncwOvDi3GTD9myoD8w729SxBjyaDeTn2hORt/F50m03fLvOe0UCEv3/Qgg==', 'Records': []}\n",
      "{'MillisBehindLatest': 0, 'NextShardIterator': 'AAAAAAAAAAFAakdVkMl0il2FjRRI8ZIQkwgfCx7Ar/KMn7Tz+wrqrw/mp5TiL8+VyXp/3/uKbFPLOt93xBlVf8Kj/K1Lr2P9r3wShV54gATDwaJO8Gvltix+Ilz/+w4xey+F2bLBbVztPP1d4RT4dbqjz2COvwLNNxvAI4oFVBXu0dy149a7OPsTMRM1Rqu2DSRWXPzcOqZDvdm6WCqILliVlneSaAMcEGDvMzYpnKw0A0W78q54gg==', 'Records': []}\n",
      "{'MillisBehindLatest': 0, 'NextShardIterator': 'AAAAAAAAAAGOqjSaB8Xhagn0Tu7chAlV7LXMCxeDEZMlEioFdMD9IGnWyW3V9SIeVcVqlsdqxM6awebx90K9WoAgzxMqM3Hl+P6fACHnK5Ks7spWePSWocywcuaKxQtgWAV8JfGEPDMQAqYi49VLDycsjvAiULw+MQM6chC99EoBrSEOb/cV3qsTme2uhpjhKs29j4Y1l5aultpSfbdC3geg3wlOjOEJ2xjmj++f/Fnn1H/DnNRDJA==', 'Records': []}\n",
      "{'MillisBehindLatest': 0, 'NextShardIterator': 'AAAAAAAAAAHgG+XoppbIqf4gxQTQoWv+ABKUO+KM1NLsh+wVB0dP7qxk36GFngc443HOtNe7c1+g2+1pUGGJFapzY1ckyHOXwphc6/hUFH9px6PyxEVMCuQBtPmqI+BNyxp5sASrVkincPzSFp347TA0Rqll+ytcPEBQ5p5DU/ymc250NV4I7f43W1Oblkkny4nJeWI+25qEKheANdVGgukviZY2u8wJZcbFd1euwz/1+HonReVpjQ==', 'Records': []}\n",
      "{'MillisBehindLatest': 0, 'NextShardIterator': 'AAAAAAAAAAG1UaESQW0MPBUE+GBzN6+DcdOnnN08yCD0WMGjk2N8Lja3g1vBaAMrfnZ/FPhofaQxqZkflCADHGdHNYQ3nTXSflzaeOdlOU57PY8t8FoisG0UPnGB/sNDIzKCexEM/u6TB4gdof21S/ieGqgBKCeUttOCAbVsL3xrwKL+nwk47v6vtEH0nbmclf+h1I4LvXWNGtTC93dgoU+NB9pY/XfK3K9veMsS7bKt4AgeDIRvRA==', 'Records': []}\n",
      "{'MillisBehindLatest': 0, 'NextShardIterator': 'AAAAAAAAAAE9FjCGzgW8dnPpmHXJFi5PDHPBS5VJckWLZ9h5RjQ5mzUGqL+Qco3T9RbDgilRn+qmikFU+Ju3zc5oOLuGBUpsuBLC7zgU5ljoVeUWCAO4+9BVXvB29jdcoQkbZ6B/0+PeKc/y2em4iOKmLT7en9U+pXw9AZrbwXqUPbM64QnBrCZMVNSLvMP1ZJahWs+zfs215JDgFsSk3MlRccR8L9HVFNM4aJSJfpn30q6AkOwPSA==', 'Records': []}\n",
      "{'MillisBehindLatest': 0, 'NextShardIterator': 'AAAAAAAAAAE/gyDi3oEB1mx+Ttn1fsuien8uyKivqiiCSZZyk/9v9ndzruUuTImzxPe2PueZ/mK3go1pLlthzOIxUo0Y0TvYU0gBmKDMbA37OdjOsY0pGAqcOL9p86FTuWVLgA0H/EdGGcac4PBoFY0EzdMPHiZnS2+BqQgw6TeYJfmnHf+jyHxwAdr6H4oiSIPcnflHkecIkZPZQ6SZgAv4H0xmZduLtMpzknQnqenWsuvRwaSTvA==', 'Records': []}\n",
      "{'MillisBehindLatest': 0, 'NextShardIterator': 'AAAAAAAAAAHcyr7oWqwssoZN6EzzOi9dCcApNqoWvRReOebgsysF4tfZ0aZuaaROG+POsucaxD2BhIoB0MjfODieoYZUUMg09aYX9QPRdld+iSswrDB0qG9EdzOPNsFHgWKYxdEF0o6jbdJjz+ncAzd6zAAaSUqlDnzlMZg3q22/cKgsI06Z1AiJaMVxaOBstCxtqKVPGSfqBmocMX3n6HwyEtuhZYcP0hK0Lz9ZUDP3gADmPIni/Q==', 'Records': []}\n",
      "{'MillisBehindLatest': 0, 'NextShardIterator': 'AAAAAAAAAAEYLOw0XidIdSCkVfmF1imZLLxaTXLBQeNX9ogEj8G0kSL/m0459iFas8KQ77WQ+PFvuF9tvLEPyr2ydJNAnvqkCUrj6fHyvfN27Je77qww8rxzUmSLY+ZTnYSi1jiJgDq6h4NTY6VI08/Cf0fPgqGBVHydyuIUyWlEn5Rt/I7lAMdNQ5P6ouhPcZKpFrLgWzwLu67qMhNK4ipEJ6NmzVB3IpkMRcWUdKoBAtq5n6j7ww==', 'Records': []}\n",
      "{'MillisBehindLatest': 0, 'NextShardIterator': 'AAAAAAAAAAE0SDvLe4DunlIHwAhUxuLzrv/a/OYoRdO1Aq0EO0wtwvxr0O7l/KFBDeKVP1+4jhPklpDWFUyR3F8+ClCqejwyISYtOX5k2n0esll7o8mudm6G2ic3Nc7c4W4N/ABoisIoHJtnSjir71yyVl12NE3VZZyabNAdhJPPLJfIzT3/2hXSNwZfzMC356rxo+mv49ideZgJzhwvzem4Qd5s+mpkCL4QbU8Tkp6Jr90uUOXMKw==', 'Records': []}\n"
     ]
    },
    {
     "name": "stdout",
     "output_type": "stream",
     "text": [
      "{'MillisBehindLatest': 0, 'NextShardIterator': 'AAAAAAAAAAH8MMqoNTihWeRUAdm9K80pR4XF5QV1kvmmUrTtbb0UnDRHDJvw2HaahGKC0Biz2sWA2rBr5XBa8XQbQiI0Om4RNeZm9aVdx9qkHf0jONlM6m8IZhN1/0R1QdBK9cF8i+mx2jlKqwJOohD9O29JQBC36g5uU84e7AAgbYMsJ4+qR6LoiIh/ruG4tYh3YMpfJtI4Cy3t9b2b4HGg0MknOk7bLpKDGnZYavGQ5mmj/HvWwg==', 'Records': []}\n",
      "{'MillisBehindLatest': 0, 'NextShardIterator': 'AAAAAAAAAAFnQItwsdR3OLTic3RajgVvd5PNObpakSbs8WneG5RqIOdFhy6V9agXRx8N6Zq6xcOxYI/G98nCR93F6n5zT+2e70gnaSjN+eoXwixWiUjhBalt+OwmBw4ndQrAtrr8ThtpvF+84YZr7deYl0+hbd+v2SD0aoZRAfgtngbI0Q5Dx7MsHUiEq0ofuttitqtr0iruEdVpes0fpQqnQCrlPyGskKZCR6CmYiYzUgCZgaegAw==', 'Records': []}\n",
      "{'MillisBehindLatest': 0, 'NextShardIterator': 'AAAAAAAAAAH/9Kp168aiOcyQuzof92dGBGYHAx3uYcvMTrtcRA42z31ikDE7u+FB8c6J84ByC/bih/GGVSBCMmjQQC5n/KGgTqbEc6hO1/zFRdiKQ/PKogMmAU4dS8Hu4ObhBGzLgfgmPb+4V3LL71IaNywwdO8BgyjnHnpBOOCfF/AVMhEJqg9wbl2uCAFgED5+W0IQQ5/cZdriskWHpQUg/vQeww+1Bv2v+QNFt36pTr4+z9gewg==', 'Records': []}\n",
      "{'MillisBehindLatest': 0, 'NextShardIterator': 'AAAAAAAAAAE4pf7AqSASfDO/dHp3Prrd+XyXJ7kfCuoNUW8rL6ArBl+nBw5UsqTDjbSYXV3LfGmAvHMbjJ7Yj3GNvvMnYdLPd1hBhrzRKyw+/Ek46+TIzvc8vlw6eBumLnfA1FOHt+XMZxsqmoSzItnOXiVA8gm0WZk/NueOcT+iWgkjR9jol7oQft/yjlhuagBUjGyMxPdQ8YwionV8qIWU55nCC8kLc1CjzCy0tHpLwSSxbp5Edg==', 'Records': []}\n",
      "{'MillisBehindLatest': 0, 'NextShardIterator': 'AAAAAAAAAAEmX0RPTmZCqQIQZFSAjXDwS5Q2yBuVrc/8+XpfVyKQApISSN7oFxx7HGUMziaU15YJ/fW3+kgmoY0Tx12X595VmP8sQUAKIltKiAmXmLbflr4gDZJ+2nGdihhNLxLHe8P/B7r6cTCJyhjdHmdnBf9aM9aVkaIbIn1LG2aVczi4l5sCeP4OfKghR25g65SjMp4yWUAArYzc+jfgmqoOEWA/ifLQ4itCySmuLirGtOwdbg==', 'Records': []}\n",
      "{'MillisBehindLatest': 0, 'NextShardIterator': 'AAAAAAAAAAHrM4FfBxOXMTI5gaKKjW3emApGvarShDvbhhLc3WPqDKLfDjHw6eu1gDz0/91iDGpAi4HBPge75NxwQyeoqK5k2NrVTTcvDCUwCG1aOyCZGIA1nvxST0D7VxItjMWk1DBwecO7Bb3W9UYwDw0jn6KAiK67dM7B/GKGsiU7vzQjfjuAK8ww5zL3Qp36qeI1qT/S26mXtQ/eV7kCdjf3dqWJR6RdI6I7iHgzpMbaQxjGKQ==', 'Records': []}\n",
      "{'MillisBehindLatest': 0, 'NextShardIterator': 'AAAAAAAAAAFdIKb0XA5/pT/PJJb/vwzzxZIOwwGtyomgnXw20m8EiXsxqbEHTC/xZmJBI7U8vPqVc+tzKMvm5cccal2lpkOkrKEHVvXbW95u8GcYyexxz5FB2YeNiH+XzAI4lEaj9pIKhvN2O/sKOJ+fmqS1bL68K+pWvjbeIR0XI2guLIQBGH9zU370ZE0cs9ylfZ9p/ZV+LqoYsIJO42IVovHuI3abMqVRvpe8IuEe+lrKwfhh5g==', 'Records': []}\n",
      "{'MillisBehindLatest': 0, 'NextShardIterator': 'AAAAAAAAAAFu/G7BFd59PG9lJ0CYjMOOkbe3uXUNPR8gdC+/OwHz5mc2aJCIoZ1EIuXamdAE0wOrksWuU9eJGW2Yovjg632GZ62qL8YQmLHslxD569wM+dDWQsL5az24B1Z85HeCxP77/l+m/xKjdIq18YWgTgedm9urB0cKAhJSteshJb0ySKbnV2gaOusYdzGgGjFy5XH+QtiSeDtD6eUxBIMHFTYONv6q9LZ7WIRpVNMzoUmR1g==', 'Records': []}\n",
      "{'MillisBehindLatest': 0, 'NextShardIterator': 'AAAAAAAAAAGEiDrEL3teRsCNWsUtxY1AB2/BwZmokZvGSlB66Cs+RtLUU26D/qseZumARWFXzQauzvECQyH/NknyiZ4vPTpX2uGLkikI03wlUXvV1d88ksyA+24oHahpWkXAFa7wYNHpE6LWyU/3z3uM32lDGz0cStlAcQObFyrGfrcLKzZZfeSsYgGUALI4qc+CU1Pwsdd0pMqRdMlitOgmVj/gBu1jGBKHLGowjtiYefGjcgmv6g==', 'Records': []}\n",
      "{'MillisBehindLatest': 0, 'NextShardIterator': 'AAAAAAAAAAE/EsjdUMHRD5el9SbZv3Q7LckWrqCKA1RiV67zAlPRnJ2oqGYilmdJ0db7ubLokop+yPXZTdQQ3B33cYj1q0m+/HUljLmm0A8/dF8cDMxOnjpXXdWfAluRyI5vDABy7ycRRlWVBcwiadVpIjbXVGBoU5qCEgaKXnV/wra9z4eGvj3np4ewAdx/sCAwQxJwlLhvkCRLrVWOTos/1BUH/1LYatFDIFPBATi6aznaoW+SQw==', 'Records': []}\n",
      "{'MillisBehindLatest': 0, 'NextShardIterator': 'AAAAAAAAAAHMtSR+zFaeVK2xefq6TRwFPpOa7o2JZ43ldhfXOBzV3pe29yzFsf/CpObfCA5vI9sZ2nmY1iyoXGxPafoaHRPEww/tNCQweo5S8ropMMn1MoHWtu9E+55CTqYI7SF+QryzVZifZqQE9sPMr6c17nlhTgDBCEhr5LrfC38DgSGaC94H1lRC/patMF8RHDBLMMlpwU57RxhNbirewXc4BlSACIGEX4Nfjv+WZW0W7meaNg==', 'Records': []}\n",
      "{'MillisBehindLatest': 0, 'NextShardIterator': 'AAAAAAAAAAFstQT7nOpNAswrkmoAxEIZrYwp6CawPD0/cVo0vufnAQ9lZ/Ec69yLf60TM8wSiUG8x9Q8+Fh1ygZAlbWcsUNupClNfZXRiGNDt0FLNl0CN/CE1yRGg2ryTBC96qWgn4IUV8QFeySlxOZa2Hf7rozd2vv3fWzfHVSQ+mVw3+nDL2ZIBvpnR6O3j192PrV1pUqWhPEiB+gvKmzEThPDGWyEcjzLo1MkNsze9vI26lhYWQ==', 'Records': []}\n",
      "{'MillisBehindLatest': 0, 'NextShardIterator': 'AAAAAAAAAAE+S6nw8fZ/gb+e44QbF9LxngtUyMK9oUHc+INvcU7Vx1rOwyd5LHWyibHInsc6HzmaP22tLXHBIJrcqw20vejPB2CESqJ7VTY5Y98/njHDKsM/kM50yYhOa6MLMUNj5f1z9oXmHRW//V5mNducwVB3WjqpZ23Thh8i/shL4JF3ZHifKUfYUlEmdn3Wblsh7ZnTjEhsgcANuXSI7JaPw1fReAQv+PD6mYypBiUKGfI2wA==', 'Records': []}\n",
      "{'MillisBehindLatest': 0, 'NextShardIterator': 'AAAAAAAAAAE2nBrfd83FKikWdqbasK8AFaqLM2iXairntL9+CtF6190S7Np8T4KEFOlD8reWFINI9gIl18+DXC/EeSkpq+f+R54fV36Wrj6GEoYp275d7U9X8aTXQpz+UArYBswUEwMSp2ab08ifypq8ftecCCMliu+//Fl0vc0P+pnVfyulkFKqKF9YnQKZiHPGA+qA3RZ+0jrMZppLYkLpRwRgGz3f8yDlyi0qzzVvky3+CZlJvg==', 'Records': []}\n",
      "{'MillisBehindLatest': 0, 'NextShardIterator': 'AAAAAAAAAAHGAI8RabKQELJ5IilHfgZ2SL+nYxEY+1AkU9/5MgpRiP9/YGfSn0r4nJ2thaGCv7TujEFFRoJBG+vVkEk4DdmW5RlNghQb8LlxE2QQILK/z4Yk5qV4TaNOOzMO2er+MY7wbz1WXFpMAxjUdx9+708HjtM+naalN5xTMSY8PBe+u/L2yUt4ETUd9k10GOPdHVWkH3FgzyKTqgHJ+RoDet/1TIgwlTASPkrTUny20DgIQw==', 'Records': []}\n",
      "{'MillisBehindLatest': 0, 'NextShardIterator': 'AAAAAAAAAAEfX4ryk5+ABqS7y7e+JfLOZeVFKZGlfbgKig3Dysv6ihJGudP6CuXdhhdDvH/gP834m+Tlaz7MWvO4WkosSTi9LpUq0Sb8/6TNUJbpkKdcWpy0YSjDR/bKMHWhF7cVf0QAaeX8eyCVCr7rkJk+OrCl7GXn53bNtT3q+PTWfezHkQLZ/GKR/v+gusX8qpqtzprJwNFV289SMB7SwoMj4A2J4EE+YYWANSoAbgIf94Pb1A==', 'Records': []}\n",
      "{'MillisBehindLatest': 0, 'NextShardIterator': 'AAAAAAAAAAFy0ydZnhCqjUq6j/NrDLQAMf34vcWWwgV19nIatRRPuSxmKQWiTjBU8X0X6k3gDDXGrSxgkGh4E0KOLozmP1UN8OM0d6R3OV2dy87WFbFljE6iJKNR5adR5qBa9CKeJYobDQt+DrsJE1CWEENU27bbcE2Nlx3IlXaKq58szvAP+4Y2rwfTa3TMZBH/Ty7rM7YjDOknZhP2V1c22NGmOL+JX39e9xPgZGJaiGdJipPnag==', 'Records': []}\n",
      "{'MillisBehindLatest': 0, 'NextShardIterator': 'AAAAAAAAAAECD06VK/gmc3x344uwTnVeR/49RviyQLyRQiYB8LNtAQ3tvoEnSHqtI0N66i31iLgg896AFU9jnzduW0c/tf8gIjcmWlsSqQnB71mz7BwQ2kfI4XKq4ygYmwKMByi9PbxTrFerSsdqWDA9BVoAAxFmBrH6iCTHVHGn3tmZeNjeQ8EVyyf+Dv4Q9v8w16mQxSYD3G2v4keLPeO82WNk6P5DMbt1znylAzOlAkHM0mYM5w==', 'Records': []}\n",
      "{'MillisBehindLatest': 0, 'NextShardIterator': 'AAAAAAAAAAE8gqB/9B04/VLo5kVSYaIfSfcFiYA16imQRVloizjRcRFix/y5RmtFx5JHj+1pSFk0M8kvc24igTKp0dxs9E6bHMDMw6hZLKxF5WZHzU3Ee7yCDf+0bBGOJg7xhKuxcVm0TfJJdq/PaMOGwcSdqI3OjD+UW9szZPnRYeMWoDdIjs71WfjKXbNqmPW7bPjDBptUEhVhYIID+7WXX1E4q+3TgWTp/f5KkzkTSKkfQKj10Q==', 'Records': []}\n",
      "{'MillisBehindLatest': 0, 'NextShardIterator': 'AAAAAAAAAAGSLxBKkenis13vRPwl+AQV2jogVn0Gp7zS/Raspo+M4f29ZVS4FQZtxghbSaamfpcZvVI6BoYVkYpRCMr5ooghfogZCHh3Qf2upPDSLg1tgZq4MHEAH2vg9gpQijOYSi/AEYusqPqbPRdwJhm6W3AJNu/yY2WE3NKGsTx1AgSQK6NPqNeTzKfHIYzQAQInBJxUzKLdescsPUxqD7Byo46Sik0FyWlL3hPq/ioP6vwf4w==', 'Records': []}\n",
      "{'MillisBehindLatest': 0, 'NextShardIterator': 'AAAAAAAAAAG5nZ/T8X1pNaomRAG1NU0hmbmDGn99n9YqLHFzV3pMV4110KDbS/52dlzz3Zp0l/A7EVUE/1L5wu/zkH86ABFDJBK8vkbXi0w2JurDJ42n/JU5ndZs+PCXaN9w9YnjoCl6ZKnl8I9MVi/1kljQ5gozHqQu4g3AfUiNr0qJk1vvMSolZOAXFDjU7omXDPB/VRavi8OHjJLLwJ8aE502ZvOojkHGtTu/LMTvddIuc36pHw==', 'Records': []}\n",
      "{'MillisBehindLatest': 0, 'NextShardIterator': 'AAAAAAAAAAExa9RKac7F5tyt4Sl3fxmU9jwJeNvQf6yzwJvhbyo4gh8J6XnCfqsRmmNSMKWQlsNh+k8xPHlu8fyrmDNh99zn6J4aaYr1Y/g0vcIrZ9fyydZI/2BRNkat9qf+sbg2jlcChQOKLv4eK8X4+7xlMxvVKi7OseLjfpByhXypiRwSJauvm4KL3b48JEVXoJzMg++QJrlwNyZnCmBfTfWFqpdhnYaUUQ9Rz/1dGD5zpH07WA==', 'Records': []}\n",
      "{'MillisBehindLatest': 0, 'NextShardIterator': 'AAAAAAAAAAFhDKP29O6EeBYd54NzmIoIJAmUoOt+HczABecLxbBxhubBObZ8YX7UD1JDn5xH54MAqORCMatBXszk3idBGXO2ojD8p7Ne/0A4mJbC/pJiggm5Akc20qUxRbfczAwAmLYbi5pvXG9rNgWuicswhc3N0cgdNpGR2qnf0uneO6clDZtBtnyLnPX4w9T8QQWTzM73DS1qfNcky8FNFjyTeqYgvEsf2ZqOLsZhOirMCEfetg==', 'Records': []}\n",
      "{'MillisBehindLatest': 0, 'NextShardIterator': 'AAAAAAAAAAGix9bSM88pI0PDrYRi0XXQ/oIb18NXZzxVCWgGnIQ1H+8fbu3Egkkuv/AHK74TWIucIJMyVBGqqNlmA5w3fO3cA5dEPWObfo6GoWp+z6tI0uAdHDZilMsrz/H68LHGSBbLrM3vSYeHbWwhbjR7PKWgd4NKtMyIJVTmxtRrokxiKKZGt+HJbO0cR+aczTd+oDphI4LVv4uiPZlE4x2GqW80g0AkKCmqT5HFD07k61ECgg==', 'Records': []}\n",
      "{'MillisBehindLatest': 0, 'NextShardIterator': 'AAAAAAAAAAHKjYZfMuKcweL6oza5UztyKv5emKl4WMGfgjjQtHPT7eZBirDQLMJI57ddst/juhwic8dMa4ZdYV0rUbD8ajQsah2YgkvgC2PayTi/+1roQ2K/jqE+wArUtIlJqbff+Dq0bPx14l+emDT+YbRA5SvQR0PFLYb6UanBziUPf3zoKL774hfsTwxTC7gfTp0/CLLjItj9/rD7aNW4aOZpLHhIje4yE4oV+R76358xTyc32A==', 'Records': []}\n",
      "{'MillisBehindLatest': 0, 'NextShardIterator': 'AAAAAAAAAAHblGd16QJNFZ1ffDJfTnAZmJL4/aqYrk1N2VyaA4373Jrrx/ynHWPH7J+DiFfSys8d4ysWsVDrBvv0amxOYodCFuD8RzdCs/LOa3hbufr03eHEugJYw7VHWbiBzg5TBoCFTogrSd0ZWn0dv17fQtJwgI0YNNgb3XX8bkzfwfGGSq7fu+LdNHQ80ZeUDjAiKcaBd3wLfYrV056nJjCgUGlgQmV9H8Ojfrb9pzTEDSJyhA==', 'Records': []}\n",
      "{'MillisBehindLatest': 0, 'NextShardIterator': 'AAAAAAAAAAGGcJ0rE0oDbe2kYSK6QNhAfFyAzMF70qIyygIsldoWv3WsUoXrUP0lq+tQj+Z6OL+7daRMbn5FWXOdxxx4dxWwU1Qy3jpOlBp1WU0Dc3L6t6tygmAH3+W9goqIIS0MX7roQK/1eUiFyaOjESKPbYfopY69iFJJoJxeLWIk4Z9DESAKebwcyH3RIG0321LqEGIunjKHKmh1Z52c6CKfftJbU0wqIo4n7ZzN66nZwQAJLw==', 'Records': []}\n"
     ]
    },
    {
     "name": "stdout",
     "output_type": "stream",
     "text": [
      "{'MillisBehindLatest': 0, 'NextShardIterator': 'AAAAAAAAAAFpsvuXwrH9tgKTr6V6+yaZq1wRgogDsWm5txrd+PDwKuA4ahCWi/4AfWLJ06jl/pKWXzE3J/BNSY2zF7Ua4JbPDOimKD7FaVZN9+5DZaCc3UG17QvUO6ZLPGqYQECaLF7CAFuyePa4fQiRs0yZwGs0BpJg3k5ZGTvkK3C7zfdP4Jw5n3c8DsU/X79l8eXhDjZc1xINHlZJJgOXcbpH0CAcW0OIn7euHJLHJ2hFONKb1Q==', 'Records': []}\n",
      "{'MillisBehindLatest': 0, 'NextShardIterator': 'AAAAAAAAAAHEpYsLj+xt2xtefHUrfNkOLocLRjVCUowJwuXQ0jJJXbfiuWLckxC0v9pnek1AZQFdIbQsLiHXyAYwHTIVM5+rw3ZAaNIEMJP6D9ElNrDbiERHS1+PxHWFPhim+YOMkvzNB7i2MzjbCuL+tATHDKiMdD0zyqRoSL+30Waa1LhJ0l9IAHbrPn3wIVmkP+HZ3UiYrKp7Q+mlga7FAAthsOtAiP97epkElc9DASwhJ7gWuA==', 'Records': []}\n",
      "{'MillisBehindLatest': 0, 'NextShardIterator': 'AAAAAAAAAAEvnzWV1AO75g/f5vWLAN5WSTALH/F+TePx10428WOMM7ubxh3YOkacLPg1jySOY9ipPfULauySPQLtXQX7SopUOsjcxMUo2b0JT3jR111z2ReL34jgC38Q0iuTmKKnB0QHxVa8GVszzCyzKPYjgodRby1Tck7Fw1qgnTPRycJEZveqtRnA6RaFqEsNiUgwXy/C8eD3Vxy57hnHnDY3kEoP0DLAF/ku78wn7BdGqkLtsw==', 'Records': []}\n",
      "{'MillisBehindLatest': 0, 'NextShardIterator': 'AAAAAAAAAAExgg+5+1YEmFSjipXlmbUydvXxmXKuzzTU+cMi8iSNPAJHWBqGJMN6wm6s1SEOC6+NiPzWGnk1KugmCk7ex/TosJJLBtIdCq1r16msaLBAoztDHLUHwQq0iUyeR9/8BfDcMzHT85/HVpTsiNeB/D2jM8CI+im2+6NG7P8aV8AzoTbgb474NnjpglOeHWtXNMKmstsCtqTZm0duXlqjucYv3ZNa9nUXQimQej7Qfh/gJw==', 'Records': []}\n",
      "{'MillisBehindLatest': 0, 'NextShardIterator': 'AAAAAAAAAAEQ9BhAbg0WD20+uZO7eCxETab4blHplQM8Lw3CqvBHuLnbhMPm9IAGM0HUS5T6sZxCaDnKFbXC8Gl9/HmdophU87qIgXohLSuMb6RxJmo8/KLVqfdslcLjWrakLIQlVkuCPoCM9vBKNHNTcf+Q9bq6TI32JtgiwP1wOGwUQ091PYcN3OnMUEdMiv8VSD8NfAdpwqN0pMSpHa0/HNgx6I70FVJChE09qQmvIOEvEF27vQ==', 'Records': []}\n",
      "{'MillisBehindLatest': 0, 'NextShardIterator': 'AAAAAAAAAAHUOnLhXXAz/FXB5rWFmY2f3JTlcWeK0IptBQ6ZkNOI4HkTAJ8yS9xUXkq1E0RaWMHG74qi8cf1Ig1baRr9XtmgJdPzCgdptjBukKwQcTlgUw3jW5FueeL7U8gWrIekvqR3aRYhbrXz42D0AY/hEW+DfD19ecRuhR2YwQioDufSq4FvLy1MMthKaLv/bKgsCTfXrNhJz0iNyw7Is+BHZTCT5XAxBdGICMtzaf488VTTfw==', 'Records': []}\n",
      "{'MillisBehindLatest': 0, 'NextShardIterator': 'AAAAAAAAAAE7jFS3SOVsW/rpVGJkJCiua6bHNB3TIqZdPV2Xw1b8U0/Wp0P/iaVMsW9VvFfjFh4HgzKuKY0MvqegHsnF1rTuNbcvuGnqa3p4iJasysm3CEsVu1BbHpzDHnGGjcFVzlsuys6s2TpJOmG9SZLANLLbWCbkED9wZ5SSP3okKnl48VkLnYfvrbE/dJo75M0og1NadfetTznemGEC1xMa38vB4UPQSGOZNznpUdcsZwVJQg==', 'Records': []}\n",
      "{'MillisBehindLatest': 0, 'NextShardIterator': 'AAAAAAAAAAFyu3Jmsd/8nW0OpFZZsIPtrBrXGemyevvZvy/9B4qExmPsq4UuRLMGaSKB3YR6+M4dnaKm9qonr3YjJhYJgUIN8HhooMf5ggK7GwFPYAs+Tb/vmuic3JAfjIvgf25MfD8TuDSyXYBPH3ve8WPCI48pG297OXIp6EnY6BRCcCRcl9abY/DBGmz8gprdCsVB4gjjdXplS8MaIxrJDB5eeJB3qVMlzJwo8wjWv4T7MBpBgg==', 'Records': []}\n",
      "{'MillisBehindLatest': 0, 'NextShardIterator': 'AAAAAAAAAAGHtw82oKD/H2aQx1e0AVVZh17BnUTHXHL+IM7FlU1g6Ogd4tc2OXwBouDU+vYkFdvBsxn7YR6x7Xqio1E+nlxju/K7kk6AqvYZpchjrqNmybV7VVqqd/CYTdROEJOsKs1tOwVFKvkQsPos84CPX3m+emmZT3lsbLqYlAzb5oz/xEextrZQQYroKCcwsNIzbRVcTfjC+Ykg2CWFA1peziQUJ0Zs3GNUvHlBLALT1Y7tpQ==', 'Records': []}\n",
      "{'MillisBehindLatest': 0, 'NextShardIterator': 'AAAAAAAAAAFDNbq994l/MgkZVvkd1Fu7BGOwZxFo4n6Lx3LO7vd5DwPabAnnirwWhBaMabqmIaX1Mugt5L0N55vQV9TWgy7Sjk3iiERWKAWPSH8+PXq7gwsSYEtHP6FsrSrCePWDAnaccxQvbXhVpFQdeMncGVV7Mh5fr/CqzrYPI27xOyZ8K/s/KpxqhGzDVu3xLY15cn8doZlT8Aem18VDlWAZv+lRDbpxcL7ASACyj8EaSppuNg==', 'Records': []}\n",
      "{'MillisBehindLatest': 0, 'NextShardIterator': 'AAAAAAAAAAHRDuyycT5FYiDQGIMW/QiODbGbZHNkIF6RETErKaHCyNVxpod2Pi+6QoXselgGRDO/o9OpmJR2zj9A4Kkl6Db7mEMAFyvDTeS3+JTjWuTi1dn6sLKYktdFgH5OtK4UHfN0eJ4Wybv/5O0UINZvzIBK6QyfzX3+ZAKsI9G00Qf2mkDKaJuORb1MKxWAQ1vbElJLR+RPiX+Un5gaGmEZl2qotR+SaM+b/19UFvi1h7PdMg==', 'Records': []}\n",
      "{'MillisBehindLatest': 0, 'NextShardIterator': 'AAAAAAAAAAGH8PVVJwcwbO/YRb3TrcZmL5XHsxpUDd5v3dLPQ7c7H1AhH/Gxs+hs5NlSrDs6JiU2FgWzhlSZepN7DOIvUJ32roRWQ6sAcJ7T+9LPPw1cmMRnlKNwhGJVfV56YLdZUtxeSDGANniKILOhADNqTVshCy2EmNRm5DrIPnw3MIGL3u5bsTJGKvuuhJyyswLj9zmgvGS44wGIbu/9mbHtfEnTysHSQ1xFvzEtQOd/XQQzbQ==', 'Records': []}\n",
      "{'MillisBehindLatest': 0, 'NextShardIterator': 'AAAAAAAAAAH4SEPTHTpVmaJ6kzI/85UQimar6dxe7DwGEAJs9uQiwcuxAzNakq7h5rc/i4VX54OglWABu5iwW/5wJRR+tMh0r0o5TC0QPSAway4s+mXKqrPjh1rLTGjeb40kUIO7xKXCxvh5kC4mihK03yfc4Ms26T3ukFcfeLkoDFpMnUJBGomPkgNveVcLa6Wg5p4gZ6gh7ALFdd9NC+j0W78oT5yTfpGFwoaxz+7vMvOxCcHQ5g==', 'Records': []}\n"
     ]
    },
    {
     "ename": "KeyboardInterrupt",
     "evalue": "",
     "output_type": "error",
     "traceback": [
      "\u001b[0;31m---------------------------------------------------------------------------\u001b[0m",
      "\u001b[0;31mKeyboardInterrupt\u001b[0m                         Traceback (most recent call last)",
      "Input \u001b[0;32mIn [12]\u001b[0m, in \u001b[0;36m<cell line: 1>\u001b[0;34m()\u001b[0m\n\u001b[1;32m      3\u001b[0m shard_it \u001b[38;5;241m=\u001b[39m out[\u001b[38;5;124m\"\u001b[39m\u001b[38;5;124mNextShardIterator\u001b[39m\u001b[38;5;124m\"\u001b[39m]\n\u001b[1;32m      4\u001b[0m \u001b[38;5;28mprint\u001b[39m(out)\n\u001b[0;32m----> 5\u001b[0m \u001b[43mtime\u001b[49m\u001b[38;5;241;43m.\u001b[39;49m\u001b[43msleep\u001b[49m\u001b[43m(\u001b[49m\u001b[38;5;241;43m0.2\u001b[39;49m\u001b[43m)\u001b[49m\n",
      "\u001b[0;31mKeyboardInterrupt\u001b[0m: "
     ]
    }
   ],
   "source": [
    "while 1==1:\n",
    "    out = kinesis.get_records(shard_it, limit=2)\n",
    "    shard_it = out[\"NextShardIterator\"]\n",
    "    print(out)\n",
    "    time.sleep(0.2)"
   ]
  },
  {
   "cell_type": "code",
   "execution_count": null,
   "id": "ee6e7f2e-c2b5-47a5-847d-7426bd82bf05",
   "metadata": {},
   "outputs": [],
   "source": [
    "# Analyze Kinesis stream\n",
    "from boto import kinesis\n",
    "from __future__ import division\n",
    "import time"
   ]
  },
  {
   "cell_type": "code",
   "execution_count": null,
   "id": "ad9395af-ff3e-424d-a67f-6abf43f03e97",
   "metadata": {},
   "outputs": [],
   "source": [
    "kinesis = kinesis.connect_to_region(\"eu-west-1\")\n",
    "shard_id = 'shardId-000000000000' #we only have one shard!\n",
    "shard_it = kinesis.get_shard_iterator(\"BotoDemo\", shard_id, \"LATEST\")[\"ShardIterator\"]\n",
    "i=0\n",
    "sum=0\n"
   ]
  },
  {
   "cell_type": "code",
   "execution_count": null,
   "id": "756da609-6659-469f-8169-8701656bc2b7",
   "metadata": {},
   "outputs": [],
   "source": []
  }
 ],
 "metadata": {
  "kernelspec": {
   "display_name": "Python 3 (ipykernel)",
   "language": "python",
   "name": "python3"
  },
  "language_info": {
   "codemirror_mode": {
    "name": "ipython",
    "version": 3
   },
   "file_extension": ".py",
   "mimetype": "text/x-python",
   "name": "python",
   "nbconvert_exporter": "python",
   "pygments_lexer": "ipython3",
   "version": "3.9.12"
  }
 },
 "nbformat": 4,
 "nbformat_minor": 5
}
