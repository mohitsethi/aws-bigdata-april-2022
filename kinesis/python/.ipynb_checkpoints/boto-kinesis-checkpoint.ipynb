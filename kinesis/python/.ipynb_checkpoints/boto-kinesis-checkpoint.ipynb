{
 "cells": [
  {
   "cell_type": "code",
   "execution_count": 66,
   "id": "8cc7f5fd-fba4-4d3c-919b-7a8a399af1d8",
   "metadata": {},
   "outputs": [
    {
     "name": "stdout",
     "output_type": "stream",
     "text": [
      "\u001b[33mDEPRECATION: Configuring installation scheme with distutils config files is deprecated and will no longer work in the near future. If you are using a Homebrew or Linuxbrew Python, please see discussion at https://github.com/Homebrew/homebrew-core/issues/76621\u001b[0m\u001b[33m\n",
      "\u001b[0mRequirement already satisfied: boto in /usr/local/lib/python3.9/site-packages (2.49.0)\n",
      "Requirement already satisfied: boto3 in /usr/local/lib/python3.9/site-packages (1.21.46)\n",
      "Requirement already satisfied: s3transfer<0.6.0,>=0.5.0 in /usr/local/lib/python3.9/site-packages (from boto3) (0.5.2)\n",
      "Requirement already satisfied: botocore<1.25.0,>=1.24.46 in /usr/local/lib/python3.9/site-packages (from boto3) (1.24.46)\n",
      "Requirement already satisfied: jmespath<2.0.0,>=0.7.1 in /usr/local/lib/python3.9/site-packages (from boto3) (1.0.0)\n",
      "Requirement already satisfied: python-dateutil<3.0.0,>=2.1 in /usr/local/lib/python3.9/site-packages (from botocore<1.25.0,>=1.24.46->boto3) (2.8.2)\n",
      "Requirement already satisfied: urllib3<1.27,>=1.25.4 in /usr/local/lib/python3.9/site-packages (from botocore<1.25.0,>=1.24.46->boto3) (1.26.9)\n",
      "Requirement already satisfied: six>=1.5 in /usr/local/lib/python3.9/site-packages (from python-dateutil<3.0.0,>=2.1->botocore<1.25.0,>=1.24.46->boto3) (1.16.0)\n",
      "\u001b[33mDEPRECATION: Configuring installation scheme with distutils config files is deprecated and will no longer work in the near future. If you are using a Homebrew or Linuxbrew Python, please see discussion at https://github.com/Homebrew/homebrew-core/issues/76621\u001b[0m\u001b[33m\n",
      "\u001b[0m\u001b[33mDEPRECATION: Configuring installation scheme with distutils config files is deprecated and will no longer work in the near future. If you are using a Homebrew or Linuxbrew Python, please see discussion at https://github.com/Homebrew/homebrew-core/issues/76621\u001b[0m\u001b[33m\n",
      "\u001b[0mRequirement already satisfied: notebook in /usr/local/lib/python3.9/site-packages (6.4.10)\n",
      "Requirement already satisfied: argon2-cffi in /usr/local/lib/python3.9/site-packages (from notebook) (21.3.0)\n",
      "Requirement already satisfied: tornado>=6.1 in /usr/local/lib/python3.9/site-packages (from notebook) (6.1)\n",
      "Requirement already satisfied: jupyter-core>=4.6.1 in /usr/local/lib/python3.9/site-packages (from notebook) (4.9.2)\n",
      "Requirement already satisfied: Send2Trash>=1.8.0 in /usr/local/lib/python3.9/site-packages (from notebook) (1.8.0)\n",
      "Requirement already satisfied: ipython-genutils in /usr/local/lib/python3.9/site-packages (from notebook) (0.2.0)\n",
      "Requirement already satisfied: prometheus-client in /usr/local/lib/python3.9/site-packages (from notebook) (0.14.1)\n",
      "Requirement already satisfied: nbformat in /usr/local/lib/python3.9/site-packages (from notebook) (5.3.0)\n",
      "Requirement already satisfied: ipykernel in /usr/local/lib/python3.9/site-packages (from notebook) (6.13.0)\n",
      "Requirement already satisfied: nbconvert>=5 in /usr/local/lib/python3.9/site-packages (from notebook) (6.5.0)\n",
      "Requirement already satisfied: nest-asyncio>=1.5 in /usr/local/lib/python3.9/site-packages (from notebook) (1.5.5)\n",
      "Requirement already satisfied: jinja2 in /usr/local/lib/python3.9/site-packages (from notebook) (3.1.1)\n",
      "Requirement already satisfied: terminado>=0.8.3 in /usr/local/lib/python3.9/site-packages (from notebook) (0.13.3)\n",
      "Requirement already satisfied: pyzmq>=17 in /usr/local/lib/python3.9/site-packages (from notebook) (22.3.0)\n",
      "Requirement already satisfied: traitlets>=4.2.1 in /usr/local/lib/python3.9/site-packages (from notebook) (5.1.1)\n",
      "Requirement already satisfied: jupyter-client>=5.3.4 in /usr/local/lib/python3.9/site-packages (from notebook) (7.2.2)\n",
      "Requirement already satisfied: python-dateutil>=2.8.2 in /usr/local/lib/python3.9/site-packages (from jupyter-client>=5.3.4->notebook) (2.8.2)\n",
      "Requirement already satisfied: entrypoints in /usr/local/lib/python3.9/site-packages (from jupyter-client>=5.3.4->notebook) (0.4)\n",
      "Requirement already satisfied: pygments>=2.4.1 in /usr/local/lib/python3.9/site-packages (from nbconvert>=5->notebook) (2.11.2)\n",
      "Requirement already satisfied: MarkupSafe>=2.0 in /usr/local/lib/python3.9/site-packages (from nbconvert>=5->notebook) (2.1.1)\n",
      "Requirement already satisfied: bleach in /usr/local/lib/python3.9/site-packages (from nbconvert>=5->notebook) (5.0.0)\n",
      "Requirement already satisfied: pandocfilters>=1.4.1 in /usr/local/lib/python3.9/site-packages (from nbconvert>=5->notebook) (1.5.0)\n",
      "Requirement already satisfied: tinycss2 in /usr/local/lib/python3.9/site-packages (from nbconvert>=5->notebook) (1.1.1)\n",
      "Requirement already satisfied: defusedxml in /usr/local/lib/python3.9/site-packages (from nbconvert>=5->notebook) (0.7.1)\n",
      "Requirement already satisfied: packaging in /usr/local/lib/python3.9/site-packages (from nbconvert>=5->notebook) (20.9)\n",
      "Requirement already satisfied: beautifulsoup4 in /usr/local/lib/python3.9/site-packages (from nbconvert>=5->notebook) (4.11.1)\n",
      "Requirement already satisfied: nbclient>=0.5.0 in /usr/local/lib/python3.9/site-packages (from nbconvert>=5->notebook) (0.6.0)\n",
      "Requirement already satisfied: jupyterlab-pygments in /usr/local/lib/python3.9/site-packages (from nbconvert>=5->notebook) (0.2.2)\n",
      "Requirement already satisfied: mistune<2,>=0.8.1 in /usr/local/lib/python3.9/site-packages (from nbconvert>=5->notebook) (0.8.4)\n",
      "Requirement already satisfied: jsonschema>=2.6 in /usr/local/lib/python3.9/site-packages (from nbformat->notebook) (4.4.0)\n",
      "Requirement already satisfied: fastjsonschema in /usr/local/lib/python3.9/site-packages (from nbformat->notebook) (2.15.3)\n",
      "Requirement already satisfied: ptyprocess in /usr/local/lib/python3.9/site-packages (from terminado>=0.8.3->notebook) (0.7.0)\n",
      "Requirement already satisfied: argon2-cffi-bindings in /usr/local/lib/python3.9/site-packages (from argon2-cffi->notebook) (21.2.0)\n",
      "Requirement already satisfied: appnope in /usr/local/lib/python3.9/site-packages (from ipykernel->notebook) (0.1.3)\n",
      "Requirement already satisfied: debugpy>=1.0 in /usr/local/lib/python3.9/site-packages (from ipykernel->notebook) (1.6.0)\n",
      "Requirement already satisfied: matplotlib-inline>=0.1 in /usr/local/lib/python3.9/site-packages (from ipykernel->notebook) (0.1.3)\n",
      "Requirement already satisfied: ipython>=7.23.1 in /usr/local/lib/python3.9/site-packages (from ipykernel->notebook) (8.2.0)\n",
      "Requirement already satisfied: psutil in /usr/local/lib/python3.9/site-packages (from ipykernel->notebook) (5.9.0)\n",
      "Requirement already satisfied: pexpect>4.3 in /usr/local/lib/python3.9/site-packages (from ipython>=7.23.1->ipykernel->notebook) (4.8.0)\n",
      "Requirement already satisfied: backcall in /usr/local/lib/python3.9/site-packages (from ipython>=7.23.1->ipykernel->notebook) (0.2.0)\n",
      "Requirement already satisfied: decorator in /usr/local/lib/python3.9/site-packages (from ipython>=7.23.1->ipykernel->notebook) (5.1.1)\n",
      "Requirement already satisfied: pickleshare in /usr/local/lib/python3.9/site-packages (from ipython>=7.23.1->ipykernel->notebook) (0.7.5)\n",
      "Requirement already satisfied: setuptools>=18.5 in /usr/local/lib/python3.9/site-packages (from ipython>=7.23.1->ipykernel->notebook) (60.10.0)\n",
      "Requirement already satisfied: jedi>=0.16 in /usr/local/lib/python3.9/site-packages (from ipython>=7.23.1->ipykernel->notebook) (0.18.1)\n",
      "Requirement already satisfied: stack-data in /usr/local/lib/python3.9/site-packages (from ipython>=7.23.1->ipykernel->notebook) (0.2.0)\n",
      "Requirement already satisfied: prompt-toolkit!=3.0.0,!=3.0.1,<3.1.0,>=2.0.0 in /usr/local/lib/python3.9/site-packages (from ipython>=7.23.1->ipykernel->notebook) (3.0.29)\n",
      "Requirement already satisfied: attrs>=17.4.0 in /usr/local/lib/python3.9/site-packages (from jsonschema>=2.6->nbformat->notebook) (21.4.0)\n",
      "Requirement already satisfied: pyrsistent!=0.17.0,!=0.17.1,!=0.17.2,>=0.14.0 in /usr/local/lib/python3.9/site-packages (from jsonschema>=2.6->nbformat->notebook) (0.18.1)\n",
      "Requirement already satisfied: six>=1.5 in /usr/local/lib/python3.9/site-packages (from python-dateutil>=2.8.2->jupyter-client>=5.3.4->notebook) (1.16.0)\n",
      "Requirement already satisfied: cffi>=1.0.1 in /usr/local/lib/python3.9/site-packages (from argon2-cffi-bindings->argon2-cffi->notebook) (1.15.0)\n",
      "Requirement already satisfied: soupsieve>1.2 in /usr/local/lib/python3.9/site-packages (from beautifulsoup4->nbconvert>=5->notebook) (2.3.2.post1)\n",
      "Requirement already satisfied: webencodings in /usr/local/lib/python3.9/site-packages (from bleach->nbconvert>=5->notebook) (0.5.1)\n",
      "Requirement already satisfied: pyparsing>=2.0.2 in /usr/local/lib/python3.9/site-packages (from packaging->nbconvert>=5->notebook) (3.0.8)\n"
     ]
    },
    {
     "name": "stdout",
     "output_type": "stream",
     "text": [
      "Requirement already satisfied: pycparser in /usr/local/lib/python3.9/site-packages (from cffi>=1.0.1->argon2-cffi-bindings->argon2-cffi->notebook) (2.21)\n",
      "Requirement already satisfied: parso<0.9.0,>=0.8.0 in /usr/local/lib/python3.9/site-packages (from jedi>=0.16->ipython>=7.23.1->ipykernel->notebook) (0.8.3)\n",
      "Requirement already satisfied: wcwidth in /usr/local/lib/python3.9/site-packages (from prompt-toolkit!=3.0.0,!=3.0.1,<3.1.0,>=2.0.0->ipython>=7.23.1->ipykernel->notebook) (0.2.5)\n",
      "Requirement already satisfied: asttokens in /usr/local/lib/python3.9/site-packages (from stack-data->ipython>=7.23.1->ipykernel->notebook) (2.0.5)\n",
      "Requirement already satisfied: executing in /usr/local/lib/python3.9/site-packages (from stack-data->ipython>=7.23.1->ipykernel->notebook) (0.8.3)\n",
      "Requirement already satisfied: pure-eval in /usr/local/lib/python3.9/site-packages (from stack-data->ipython>=7.23.1->ipykernel->notebook) (0.2.2)\n",
      "\u001b[33mDEPRECATION: Configuring installation scheme with distutils config files is deprecated and will no longer work in the near future. If you are using a Homebrew or Linuxbrew Python, please see discussion at https://github.com/Homebrew/homebrew-core/issues/76621\u001b[0m\u001b[33m\n",
      "\u001b[0m"
     ]
    }
   ],
   "source": [
    "!pip3 install boto3\n",
    "!pip3 install notebook"
   ]
  },
  {
   "cell_type": "code",
   "execution_count": 67,
   "id": "3367bb85",
   "metadata": {},
   "outputs": [
    {
     "ename": "ImportError",
     "evalue": "cannot import name 'kinesis' from 'boto3' (/usr/local/lib/python3.9/site-packages/boto3/__init__.py)",
     "output_type": "error",
     "traceback": [
      "\u001b[0;31m---------------------------------------------------------------------------\u001b[0m",
      "\u001b[0;31mImportError\u001b[0m                               Traceback (most recent call last)",
      "Input \u001b[0;32mIn [67]\u001b[0m, in \u001b[0;36m<cell line: 1>\u001b[0;34m()\u001b[0m\n\u001b[0;32m----> 1\u001b[0m \u001b[38;5;28;01mfrom\u001b[39;00m \u001b[38;5;21;01mboto3\u001b[39;00m \u001b[38;5;28;01mimport\u001b[39;00m kinesis\n\u001b[1;32m      2\u001b[0m \u001b[38;5;28;01mimport\u001b[39;00m \u001b[38;5;21;01mtime\u001b[39;00m\n",
      "\u001b[0;31mImportError\u001b[0m: cannot import name 'kinesis' from 'boto3' (/usr/local/lib/python3.9/site-packages/boto3/__init__.py)"
     ]
    }
   ],
   "source": [
    "\n",
    "from boto3 import kinesis\n",
    "import time\n",
    "# import os1"
   ]
  },
  {
   "cell_type": "code",
   "execution_count": 50,
   "id": "9fc5cc4f-80f7-45d0-b255-b30811e49c10",
   "metadata": {},
   "outputs": [
    {
     "name": "stdout",
     "output_type": "stream",
     "text": [
      "boto-kinesis.ipynb       kinesis-python-stream.md\r\n"
     ]
    }
   ],
   "source": [
    "!ls"
   ]
  },
  {
   "cell_type": "code",
   "execution_count": 51,
   "id": "6418b55b-6fe2-4473-be2e-9e2d91533792",
   "metadata": {},
   "outputs": [],
   "source": [
    "kinesis = kinesis.connect_to_region(\"ap-south-1\")"
   ]
  },
  {
   "cell_type": "code",
   "execution_count": 52,
   "id": "a19f2e02-4aa9-4e5a-af4c-433012e01f60",
   "metadata": {},
   "outputs": [],
   "source": [
    "shard_id = 'shardId-000000000000' #we only have one shard!"
   ]
  },
  {
   "cell_type": "code",
   "execution_count": 53,
   "id": "da575828",
   "metadata": {},
   "outputs": [],
   "source": [
    "stream_name = 'ds-ms-1'"
   ]
  },
  {
   "cell_type": "code",
   "execution_count": 54,
   "id": "8d702003-10bb-458c-b45a-ad9c81d466a6",
   "metadata": {},
   "outputs": [],
   "source": [
    "shard_it = kinesis.get_shard_iterator(\"ds-ms-1\", shard_id, \"LATEST\")[\"ShardIterator\"]"
   ]
  },
  {
   "cell_type": "code",
   "execution_count": 55,
   "id": "00c82bb6-502d-4931-842c-96bcfcc4c1ed",
   "metadata": {
    "scrolled": true,
    "tags": []
   },
   "outputs": [
    {
     "name": "stdout",
     "output_type": "stream",
     "text": [
      "{'MillisBehindLatest': 0, 'NextShardIterator': 'AAAAAAAAAAH0oVxI/tDtxZvyuW8PxEkB+v37fui8uz84FncSJBveIDtvMhuxggjwTxIpuv3LL40PrhhSkxeypfcb2Jr6gvlG3ZbShkP5LSusauUXjy4qtDD3A3SK8rBKmRDJFXESyoJKiwOPWRXyKWMNzXy4UtlKLsvjKG4gnCZvI+sF7X4Ng3Yrara1uVNCwZ9K5udAZgL272SBPipj8mOoHWbdGqwpnBK/Fik1LuSb+fSa0YFc2g==', 'Records': []}\n",
      "{'MillisBehindLatest': 0, 'NextShardIterator': 'AAAAAAAAAAEXeTuLtaS6dB7EWqhXtDUL7QHysd/mKelKo0po/b2A5N5GBxOYwxHCYyK125UpfS64TJgmK6YdSv9xGVLEjOLE95QPNFPTSFHIacyvykkFEkuum3hmZf4bcOFQFnn28XZ7SG1URZn4bz3ba4NK06lri3y+xUWy3A9Q4VbhfC+qZKXRUzXlP9ozRDrbMjYypQ7PuWPrtfqmLemJeMrAuX7ob1ZbofXHSud2dzV78SEQ5A==', 'Records': []}\n",
      "{'MillisBehindLatest': 0, 'NextShardIterator': 'AAAAAAAAAAH9xa6N/eboAC2o0N/APm16r7K8uZAlX/ZVgdJgW0X06FAUUrPBClFfpQwUNsp2erArs88RfbDtUfKf6Z+ipBAfPwG/57pH+dYeqV5m3AiyKvoAFw4d9bYbJqpfLw93azECvWHIN1PPVCJ+LKBOGrm93GxgZV2Y/jNNbAXK9tIzQAfGrQ1jIUWPN/QMwsRAuzI7AMgM98EKwWwK8XnFk6Z8vBJhbstv63qr2rynGwwZSA==', 'Records': []}\n",
      "{'MillisBehindLatest': 0, 'NextShardIterator': 'AAAAAAAAAAF54hQRIl/bfKribgnawBKOXixvhSbhFRNlBs4HbSq0YCnnhhGc9w10kSNJUUXmqbcjbm2RsiftzRjDB1FCKGnUOzztOVGAvPUqKapqxt2uNWPMt9c+X+Vm0xIP7hpL1Vml0dtr/BU88r6pPZzQFoPfUWkkd3rVrhp1C+OWmEcuJWhNKTTtbPFcC8ykXjvJHxM0Pl5OEw3IqMQrSSwUtqZ/8RWLz/NZ/IJXnBtT6aPG7w==', 'Records': []}\n",
      "{'MillisBehindLatest': 0, 'NextShardIterator': 'AAAAAAAAAAEBBxbpnqRjMj31lgKv//Fs30rij2nMUBE2coNfT/NszMst8Po+NetZvQht6QsZX7PxjGBQq45tizPWK7F9VpLU/aEIoetGdR3U2P9nSBcCE0QjMx6Kxpt8VVDVWInOtZ1xNgFQ+ZC7ztofzkoKnVz2Mo6HbKZKQCEl+uDjGvR0j3sb7we0QkZWj0Qa2FPdsQ8A132XgmbTlBPjLl4u0kdsPmztr609A4DCymHtPWWh5g==', 'Records': []}\n",
      "{'MillisBehindLatest': 0, 'NextShardIterator': 'AAAAAAAAAAHHvjp5ncdSL03NvrL1rFeP0GwjAOf1uU2pT0yI7WRYNKAfV8Fw6b6z67bOpG1qjnTqM4teUWs/7Aleb41C+9Jzan0kWYVL2WIpNM2alFSkap6CB7Q5w6wLnAvs5EnZc7ShMyvJc9hs2IT7yn1My8iXlVu7aC9XGDD3lXSNoA1cFtSbCxLI/19M+Tyzq3G+vzD8TQOfiU0//lG0G+wmEPPt8BjTgwW21jJoXP34NSTCdw==', 'Records': []}\n",
      "{'MillisBehindLatest': 0, 'NextShardIterator': 'AAAAAAAAAAH7kBFbIosefIQkxd0fE8bz43YWtUm/mZBOCaaomXeMA9qr+ExBMZ/ikjssCTacvx0+oM6WLNvqeeykY/gFjXqcFPolTIv7yqM+lHonUpPMYkwRGQTJthyesvd9+7c13AghJpswf0gyv+PoZ7FVqDTZfPjpST01nPFuRVSce8YkMS//tuyNEiu8YiIilY1wCezS7fwWWM0su8u+LHxB4f80vuBtLcQeve4DpVbaSQ62aw==', 'Records': []}\n",
      "{'MillisBehindLatest': 0, 'NextShardIterator': 'AAAAAAAAAAFDkcYAr3vKg2FodkezAbgeTOF3OKKupPHi9ziTHsiBm0/xUxewpZb96zYDXtBYXBhb59NVrcklDflv8IoQ8NiFt46MywdGDg688OM4tyuH3QhpID9GwSdPKM+KABoJzEyT/pOT5vtct8aHBAxK6aQTQAaVSLTfN7TIQ96LiVvHaWRX/hwxKHlK7RuGhCRz2UwqTVlu/+31iMlUdnPbgWFmVaiO2Zlf6UudG91DpSHbNA==', 'Records': []}\n",
      "{'MillisBehindLatest': 0, 'NextShardIterator': 'AAAAAAAAAAHdsaOdIOfSZYb3ggeVDqN82z6ZeVRWCchqDf5VJX4LQxZIL5qmafgbv931uGePk41nRnsgKZ6DPEI+jJhgf/l5nJJwLXvV+Ipx1mpAFOdjnWU/pzRaL6REUQ3aiXUejwnAgb7bwLikYeQCrBkqU5ZcS6WQDilLPOl91PoRoH/JEj8WtR7gapyLbIZt2au0dmhHRiLETYGGExuJco2cWHcP34FIOJTjLO8ubxoi3sDmGw==', 'Records': []}\n",
      "{'MillisBehindLatest': 0, 'NextShardIterator': 'AAAAAAAAAAE8E0YFeCKX4r29f3VgvSotv0uureScvQD90iKfxscVlUYo91MLifGe4re67QvUX4umSr/Ge4g5r+73G9VqQH9zlhEwvRmDrjjZ6sknqBFn22de8QVCmVso2ZW5GvJZRoGOcXU+ruMgpOzRSyRXkEgzlb2SjQKIC2T36gJ7y2bFfh8H2fNQyu899vuJOr6C28ATz6/O4/a35uNwkTi/6M5+k1xHKaaslBDEOGRhMzf57g==', 'Records': []}\n",
      "{'MillisBehindLatest': 0, 'NextShardIterator': 'AAAAAAAAAAFbDDopsACDvOeQ0zwT/jXPAW7zRSUjlMEpHBQUFuV7qZyZtWB3TduO7gunzeUROByCudYObcHLJKZBvf9JSGufds11suaWCLX70FP8Q9kRo65W+5mJLBc5AE1MqpG74LtfV/ksVPjEZtxZkON3Q755wgzGQsW+KKvgyb3j8OLpUmBTdzC8nJvNFF3Q7Rp3hW75WFp+zQvnTOe6cCVyObq/nWseLAbT56DY5qy4fQb1FQ==', 'Records': []}\n"
     ]
    },
    {
     "ename": "KeyboardInterrupt",
     "evalue": "",
     "output_type": "error",
     "traceback": [
      "\u001b[0;31m---------------------------------------------------------------------------\u001b[0m",
      "\u001b[0;31mKeyboardInterrupt\u001b[0m                         Traceback (most recent call last)",
      "Input \u001b[0;32mIn [55]\u001b[0m, in \u001b[0;36m<cell line: 1>\u001b[0;34m()\u001b[0m\n\u001b[1;32m      3\u001b[0m shard_it \u001b[38;5;241m=\u001b[39m out[\u001b[38;5;124m\"\u001b[39m\u001b[38;5;124mNextShardIterator\u001b[39m\u001b[38;5;124m\"\u001b[39m]\n\u001b[1;32m      4\u001b[0m \u001b[38;5;28mprint\u001b[39m(out)\n\u001b[0;32m----> 5\u001b[0m \u001b[43mtime\u001b[49m\u001b[38;5;241;43m.\u001b[39;49m\u001b[43msleep\u001b[49m\u001b[43m(\u001b[49m\u001b[38;5;241;43m0.2\u001b[39;49m\u001b[43m)\u001b[49m\n",
      "\u001b[0;31mKeyboardInterrupt\u001b[0m: "
     ]
    }
   ],
   "source": [
    "while 1==1:\n",
    "    out = kinesis.get_records(shard_it, limit=2)\n",
    "    shard_it = out[\"NextShardIterator\"]\n",
    "    print(out)\n",
    "    time.sleep(0.2)"
   ]
  },
  {
   "cell_type": "code",
   "execution_count": 56,
   "id": "ee6e7f2e-c2b5-47a5-847d-7426bd82bf05",
   "metadata": {},
   "outputs": [],
   "source": [
    "# Analyze Kinesis stream\n",
    "\n",
    "# !pip3 install namegenerator\n",
    "\n",
    "\n",
    "from boto import kinesis\n",
    "from __future__ import division\n",
    "import time\n",
    "import json\n",
    "import namegenerator\n",
    "from datetime import datetime"
   ]
  },
  {
   "cell_type": "code",
   "execution_count": 83,
   "id": "c5c916b6",
   "metadata": {},
   "outputs": [],
   "source": [
    "\n",
    "def get_data():\n",
    "    list1 = []\n",
    "#     list1 str(namegenerator.gen()+'=='+str(datetime.now()))\n",
    "    list1 = [{\"ab\": \"34\"}, {\"3415\": \"3452\"}, {\"gender\": \"male\"}]\n",
    "    return list1\n",
    "    \n",
    "\n",
    "# datetime.now()"
   ]
  },
  {
   "cell_type": "code",
   "execution_count": 84,
   "id": "5935978f",
   "metadata": {},
   "outputs": [
    {
     "data": {
      "text/plain": [
       "['abc', '34', '345', '345', 'male']"
      ]
     },
     "execution_count": 84,
     "metadata": {},
     "output_type": "execute_result"
    }
   ],
   "source": [
    "get_data()"
   ]
  },
  {
   "cell_type": "code",
   "execution_count": 85,
   "id": "115e9d92",
   "metadata": {},
   "outputs": [
    {
     "ename": "ParamValidationError",
     "evalue": "Parameter validation failed:\nInvalid type for parameter Records[0], value: abc, type: <class 'str'>, valid types: <class 'dict'>\nInvalid type for parameter Records[1], value: 34, type: <class 'str'>, valid types: <class 'dict'>\nInvalid type for parameter Records[2], value: 345, type: <class 'str'>, valid types: <class 'dict'>\nInvalid type for parameter Records[3], value: 345, type: <class 'str'>, valid types: <class 'dict'>\nInvalid type for parameter Records[4], value: male, type: <class 'str'>, valid types: <class 'dict'>",
     "output_type": "error",
     "traceback": [
      "\u001b[0;31m---------------------------------------------------------------------------\u001b[0m",
      "\u001b[0;31mParamValidationError\u001b[0m                      Traceback (most recent call last)",
      "Input \u001b[0;32mIn [85]\u001b[0m, in \u001b[0;36m<cell line: 5>\u001b[0;34m()\u001b[0m\n\u001b[1;32m      1\u001b[0m \u001b[38;5;28;01mimport\u001b[39;00m \u001b[38;5;21;01mboto3\u001b[39;00m\n\u001b[1;32m      3\u001b[0m client \u001b[38;5;241m=\u001b[39m boto3\u001b[38;5;241m.\u001b[39mclient(\u001b[38;5;124m'\u001b[39m\u001b[38;5;124mkinesis\u001b[39m\u001b[38;5;124m'\u001b[39m)\n\u001b[0;32m----> 5\u001b[0m \u001b[43mclient\u001b[49m\u001b[38;5;241;43m.\u001b[39;49m\u001b[43mput_records\u001b[49m\u001b[43m(\u001b[49m\n\u001b[1;32m      6\u001b[0m \u001b[43m            \u001b[49m\u001b[43mStreamName\u001b[49m\u001b[38;5;241;43m=\u001b[39;49m\u001b[38;5;124;43m\"\u001b[39;49m\u001b[38;5;124;43mds-ms-1\u001b[39;49m\u001b[38;5;124;43m\"\u001b[39;49m\u001b[43m,\u001b[49m\n\u001b[1;32m      7\u001b[0m \u001b[43m            \u001b[49m\u001b[43mRecords\u001b[49m\u001b[38;5;241;43m=\u001b[39;49m\u001b[43mget_data\u001b[49m\u001b[43m(\u001b[49m\u001b[43m)\u001b[49m\u001b[43m)\u001b[49m\n",
      "File \u001b[0;32m/usr/local/lib/python3.9/site-packages/botocore/client.py:415\u001b[0m, in \u001b[0;36mClientCreator._create_api_method.<locals>._api_call\u001b[0;34m(self, *args, **kwargs)\u001b[0m\n\u001b[1;32m    412\u001b[0m     \u001b[38;5;28;01mraise\u001b[39;00m \u001b[38;5;167;01mTypeError\u001b[39;00m(\n\u001b[1;32m    413\u001b[0m         \u001b[38;5;124m\"\u001b[39m\u001b[38;5;132;01m%s\u001b[39;00m\u001b[38;5;124m() only accepts keyword arguments.\u001b[39m\u001b[38;5;124m\"\u001b[39m \u001b[38;5;241m%\u001b[39m py_operation_name)\n\u001b[1;32m    414\u001b[0m \u001b[38;5;66;03m# The \"self\" in this scope is referring to the BaseClient.\u001b[39;00m\n\u001b[0;32m--> 415\u001b[0m \u001b[38;5;28;01mreturn\u001b[39;00m \u001b[38;5;28;43mself\u001b[39;49m\u001b[38;5;241;43m.\u001b[39;49m\u001b[43m_make_api_call\u001b[49m\u001b[43m(\u001b[49m\u001b[43moperation_name\u001b[49m\u001b[43m,\u001b[49m\u001b[43m \u001b[49m\u001b[43mkwargs\u001b[49m\u001b[43m)\u001b[49m\n",
      "File \u001b[0;32m/usr/local/lib/python3.9/site-packages/botocore/client.py:715\u001b[0m, in \u001b[0;36mBaseClient._make_api_call\u001b[0;34m(self, operation_name, api_params)\u001b[0m\n\u001b[1;32m    707\u001b[0m     logger\u001b[38;5;241m.\u001b[39mdebug(\u001b[38;5;124m'\u001b[39m\u001b[38;5;124mWarning: \u001b[39m\u001b[38;5;132;01m%s\u001b[39;00m\u001b[38;5;124m.\u001b[39m\u001b[38;5;132;01m%s\u001b[39;00m\u001b[38;5;124m() is deprecated\u001b[39m\u001b[38;5;124m'\u001b[39m,\n\u001b[1;32m    708\u001b[0m                  service_name, operation_name)\n\u001b[1;32m    709\u001b[0m request_context \u001b[38;5;241m=\u001b[39m {\n\u001b[1;32m    710\u001b[0m     \u001b[38;5;124m'\u001b[39m\u001b[38;5;124mclient_region\u001b[39m\u001b[38;5;124m'\u001b[39m: \u001b[38;5;28mself\u001b[39m\u001b[38;5;241m.\u001b[39mmeta\u001b[38;5;241m.\u001b[39mregion_name,\n\u001b[1;32m    711\u001b[0m     \u001b[38;5;124m'\u001b[39m\u001b[38;5;124mclient_config\u001b[39m\u001b[38;5;124m'\u001b[39m: \u001b[38;5;28mself\u001b[39m\u001b[38;5;241m.\u001b[39mmeta\u001b[38;5;241m.\u001b[39mconfig,\n\u001b[1;32m    712\u001b[0m     \u001b[38;5;124m'\u001b[39m\u001b[38;5;124mhas_streaming_input\u001b[39m\u001b[38;5;124m'\u001b[39m: operation_model\u001b[38;5;241m.\u001b[39mhas_streaming_input,\n\u001b[1;32m    713\u001b[0m     \u001b[38;5;124m'\u001b[39m\u001b[38;5;124mauth_type\u001b[39m\u001b[38;5;124m'\u001b[39m: operation_model\u001b[38;5;241m.\u001b[39mauth_type,\n\u001b[1;32m    714\u001b[0m }\n\u001b[0;32m--> 715\u001b[0m request_dict \u001b[38;5;241m=\u001b[39m \u001b[38;5;28;43mself\u001b[39;49m\u001b[38;5;241;43m.\u001b[39;49m\u001b[43m_convert_to_request_dict\u001b[49m\u001b[43m(\u001b[49m\n\u001b[1;32m    716\u001b[0m \u001b[43m    \u001b[49m\u001b[43mapi_params\u001b[49m\u001b[43m,\u001b[49m\u001b[43m \u001b[49m\u001b[43moperation_model\u001b[49m\u001b[43m,\u001b[49m\u001b[43m \u001b[49m\u001b[43mcontext\u001b[49m\u001b[38;5;241;43m=\u001b[39;49m\u001b[43mrequest_context\u001b[49m\u001b[43m)\u001b[49m\n\u001b[1;32m    717\u001b[0m resolve_checksum_context(request_dict, operation_model, api_params)\n\u001b[1;32m    719\u001b[0m service_id \u001b[38;5;241m=\u001b[39m \u001b[38;5;28mself\u001b[39m\u001b[38;5;241m.\u001b[39m_service_model\u001b[38;5;241m.\u001b[39mservice_id\u001b[38;5;241m.\u001b[39mhyphenize()\n",
      "File \u001b[0;32m/usr/local/lib/python3.9/site-packages/botocore/client.py:765\u001b[0m, in \u001b[0;36mBaseClient._convert_to_request_dict\u001b[0;34m(self, api_params, operation_model, context)\u001b[0m\n\u001b[1;32m    761\u001b[0m \u001b[38;5;28;01mdef\u001b[39;00m \u001b[38;5;21m_convert_to_request_dict\u001b[39m(\u001b[38;5;28mself\u001b[39m, api_params, operation_model,\n\u001b[1;32m    762\u001b[0m                              context\u001b[38;5;241m=\u001b[39m\u001b[38;5;28;01mNone\u001b[39;00m):\n\u001b[1;32m    763\u001b[0m     api_params \u001b[38;5;241m=\u001b[39m \u001b[38;5;28mself\u001b[39m\u001b[38;5;241m.\u001b[39m_emit_api_params(\n\u001b[1;32m    764\u001b[0m         api_params, operation_model, context)\n\u001b[0;32m--> 765\u001b[0m     request_dict \u001b[38;5;241m=\u001b[39m \u001b[38;5;28;43mself\u001b[39;49m\u001b[38;5;241;43m.\u001b[39;49m\u001b[43m_serializer\u001b[49m\u001b[38;5;241;43m.\u001b[39;49m\u001b[43mserialize_to_request\u001b[49m\u001b[43m(\u001b[49m\n\u001b[1;32m    766\u001b[0m \u001b[43m        \u001b[49m\u001b[43mapi_params\u001b[49m\u001b[43m,\u001b[49m\u001b[43m \u001b[49m\u001b[43moperation_model\u001b[49m\u001b[43m)\u001b[49m\n\u001b[1;32m    767\u001b[0m     \u001b[38;5;28;01mif\u001b[39;00m \u001b[38;5;129;01mnot\u001b[39;00m \u001b[38;5;28mself\u001b[39m\u001b[38;5;241m.\u001b[39m_client_config\u001b[38;5;241m.\u001b[39minject_host_prefix:\n\u001b[1;32m    768\u001b[0m         request_dict\u001b[38;5;241m.\u001b[39mpop(\u001b[38;5;124m'\u001b[39m\u001b[38;5;124mhost_prefix\u001b[39m\u001b[38;5;124m'\u001b[39m, \u001b[38;5;28;01mNone\u001b[39;00m)\n",
      "File \u001b[0;32m/usr/local/lib/python3.9/site-packages/botocore/validate.py:359\u001b[0m, in \u001b[0;36mParamValidationDecorator.serialize_to_request\u001b[0;34m(self, parameters, operation_model)\u001b[0m\n\u001b[1;32m    356\u001b[0m     report \u001b[38;5;241m=\u001b[39m \u001b[38;5;28mself\u001b[39m\u001b[38;5;241m.\u001b[39m_param_validator\u001b[38;5;241m.\u001b[39mvalidate(parameters,\n\u001b[1;32m    357\u001b[0m                                             operation_model\u001b[38;5;241m.\u001b[39minput_shape)\n\u001b[1;32m    358\u001b[0m     \u001b[38;5;28;01mif\u001b[39;00m report\u001b[38;5;241m.\u001b[39mhas_errors():\n\u001b[0;32m--> 359\u001b[0m         \u001b[38;5;28;01mraise\u001b[39;00m ParamValidationError(report\u001b[38;5;241m=\u001b[39mreport\u001b[38;5;241m.\u001b[39mgenerate_report())\n\u001b[1;32m    360\u001b[0m \u001b[38;5;28;01mreturn\u001b[39;00m \u001b[38;5;28mself\u001b[39m\u001b[38;5;241m.\u001b[39m_serializer\u001b[38;5;241m.\u001b[39mserialize_to_request(parameters,\n\u001b[1;32m    361\u001b[0m                                              operation_model)\n",
      "\u001b[0;31mParamValidationError\u001b[0m: Parameter validation failed:\nInvalid type for parameter Records[0], value: abc, type: <class 'str'>, valid types: <class 'dict'>\nInvalid type for parameter Records[1], value: 34, type: <class 'str'>, valid types: <class 'dict'>\nInvalid type for parameter Records[2], value: 345, type: <class 'str'>, valid types: <class 'dict'>\nInvalid type for parameter Records[3], value: 345, type: <class 'str'>, valid types: <class 'dict'>\nInvalid type for parameter Records[4], value: male, type: <class 'str'>, valid types: <class 'dict'>"
     ]
    }
   ],
   "source": [
    "import boto3\n",
    "\n",
    "client = boto3.client('kinesis')\n",
    "\n",
    "client.put_records(\n",
    "            StreamName=\"ds-ms-1\",\n",
    "            Records=get_data())"
   ]
  },
  {
   "cell_type": "code",
   "execution_count": 37,
   "id": "49d00a35",
   "metadata": {
    "scrolled": true
   },
   "outputs": [
    {
     "data": {
      "text/plain": [
       "'muggy-maroon-lionfish==2022-04-23 12:49:57.442099'"
      ]
     },
     "execution_count": 37,
     "metadata": {},
     "output_type": "execute_result"
    }
   ],
   "source": []
  },
  {
   "cell_type": "code",
   "execution_count": null,
   "id": "9352b8c6",
   "metadata": {},
   "outputs": [],
   "source": []
  }
 ],
 "metadata": {
  "kernelspec": {
   "display_name": "Python 3 (ipykernel)",
   "language": "python",
   "name": "python3"
  },
  "language_info": {
   "codemirror_mode": {
    "name": "ipython",
    "version": 3
   },
   "file_extension": ".py",
   "mimetype": "text/x-python",
   "name": "python",
   "nbconvert_exporter": "python",
   "pygments_lexer": "ipython3",
   "version": "3.9.12"
  }
 },
 "nbformat": 4,
 "nbformat_minor": 5
}
